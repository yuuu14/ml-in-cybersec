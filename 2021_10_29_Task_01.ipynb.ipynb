{
 "cells": [
  {
   "cell_type": "markdown",
   "metadata": {
    "id": "4NzyqehHjUlG"
   },
   "source": [
    "# ML in Cybersecurity: Task I\n",
    "\n",
    "## Team\n",
    "  * **Team name**:  team0x\n",
    "  * **Members**:  Yu Xiao (s8xiyuuu@stud.uni-saarland.de)\n",
    "\n",
    "\n",
    "## Logistics\n",
    "  * **Due date**: 11th November 2021, 23:59:59 (email the completed notebook including outputs to mlcysec_ws2022_staff@lists.cispa.saarland)\n",
    "  * Please include your team name and the task number in the file name and the email subject\n",
    "  * Complete this in **teams of 3**\n",
    "  * Feel free to use the forum or the mailing list to find group members.\n",
    "  \n",
    "## Timeline\n",
    "  * 29-Oct-2021: Task 1 hand-out\n",
    "  * **11-Nov-2021** (23:59:59): Email the completed notebook including outputs to mlcysec_ws2022_staff@lists.cispa.saarland\n",
    "  * 12-Nov-2021: Task 1 discussion and summary\n",
    "  \n",
    "  \n",
    "## About this task\n",
    "In this task, you'll implement a digit classifier, based on the popular [MNIST](http://yann.lecun.com/exdb/mnist/) dataset. The dataset is based on a seminal [paper](http://yann.lecun.com/exdb/publis/pdf/lecun-01a.pdf), which immensely popularized (convolutional) neural networks. This is a great starting point for ML research and this dataset/model has been a stepping stone numerous other tasks such as [GANs](https://papers.nips.cc/paper/5423-generative-adversarial-nets.pdf), [Adversarial Perturbations](https://arxiv.org/abs/1412.6572) and so many more!\n",
    "\n",
    "This dataset consists of data $\\mathcal{D} = \\{x_i, y_i\\}_{i=1}^N$, where $x_i$ is a 28x28 pixel grayscale image and $y_i$ is a scalar represeting digits between 0-9. The notebook will guide you to load this data, implement classifiers $\\hat{y_i} = f_w(x_i)$  and analyze results. By doing so, you'll have a ML model that works on real data!\n",
    "\n",
    "To put things into context, have a look at Slide 21 in the [second](https://cms.cispa.saarland/mlcysec19/dl/4/2019-10-24-ml.pdf) lecture. Within this framework, the following blocks of this task are fixed:\n",
    "  * *Real-world problem*: Digit classification\n",
    "  * *Performance metric*: Mean accuracy i.e., $ \\frac{1}{N} \\sum_{i=1}^N \\mathbb{1}[\\hat{y_i} = y_i]$, where $\\mathbb{1}[\\hat{y_i} = y_i]$ is 1 if your model predicted the right digit for the $i$-th digit and 0 otherwise.\n",
    "  * *Data*: The MNIST dataset\n",
    "\n",
    "You'll make the the following design-choices:\n",
    " * *Choice of Model*: A model family (Non-parametric methods, Linear classifiers, Neural Networks, etc.)\n",
    " * *ML Model*: Specific model (e.g., SVM with a polynomial kernel)\n",
    " * *Loss/Risk*\n",
    " * *Optimization*\n",
    "\n",
    "\n",
    "## A Note on Grading\n",
    "The grading for this task will depend on:\n",
    " 1. Functional digit classifier\n",
    "   * Following a well-defined ML pipeline\n",
    "   * Developing 3 classification models (keep them diverse and ideally of increasing complexity)\n",
    "   * Obtaining reasonable accuracies (>80%) on a held-out test set\n",
    " 1. Analysis\n",
    "   * Which methods work better than the rest and why?\n",
    "   * Which hyper-parameters and design-choices were important in each of your methods?\n",
    "   * Quantifying influence of these hyper-parameters on loss and/or validation accuracies\n",
    "   * Trade-offs between methods, hyper-parameters, design-choices\n",
    "    * Anything else you find interesting (this part is open-ended)\n",
    "  \n",
    " A note on (1.): \n",
    "  * Choose your models that aids good insights. We require at least one non-Neural Network (e.g., SVM, KNN) and one Neural Network model (e.g., MLP, CNN).\n",
    "  * We definitely don't expect all three models to achieve >99% test accuracies!\n",
    "\n",
    "## Grading Details\n",
    " * 5 points for loading and visualization \n",
    " * 25x3 points for models. Per model:\n",
    "   * 4 points for written description \n",
    "   * 7 points for implementation\n",
    "   * 7 points for evaluation\n",
    "   * 7 points for summary\n",
    " * 15 points for final summary (Section 3)\n",
    " * 5 points for clean code\n",
    " \n",
    "## Filling-in the Notebook\n",
    "You'll be submitting this very notebook that is filled-in with your code and analysis. Make sure you submit one that has been previously executed in-order. (So that results/graphs are already visible upon opening it). \n",
    "\n",
    "The notebook you submit **should compile** (or should be self-contained and sufficiently commented). Check tutorial 1 on how to set up the Python3 environment.\n",
    "\n",
    "\n",
    "**The notebook is your task report. So, to make the report readable, omit code for techniques/models/things that did not work. You can use final summary to provide report about these codes.**\n",
    "\n",
    "It is extremely important that you **do not** re-order the existing sections. Apart from that, the code blocks that you need to fill-in are given by:\n",
    "```\n",
    "#\n",
    "#\n",
    "# ------- Your Code -------\n",
    "#\n",
    "#\n",
    "```\n",
    "Feel free to break this into multiple-cells. It's even better if you interleave explanations and code-blocks so that the entire notebook forms a readable \"story\".\n",
    "\n",
    "\n",
    "## Code of Honor\n",
    "We encourage discussing ideas and concepts with other students to help you learn and better understand the course content. However, the work you submit and present **must be original** and demonstrate your effort in solving the presented problems. **We will not tolerate** blatantly using existing solutions (such as from the internet), improper collaboration (e.g., sharing code or experimental data between groups) and plagiarism. If the honor code is not met, no points will be awarded.\n",
    "\n",
    " \n",
    " ## Versions\n",
    "  * v2.0: Added pytorch\n",
    "  * v1.1: Added Code of Honor\n",
    "  * v1.0: Initial notebook\n",
    "  \n",
    "  ---"
   ]
  },
  {
   "cell_type": "code",
   "execution_count": 1,
   "metadata": {
    "id": "3ewNwfFvbFaR"
   },
   "outputs": [],
   "source": [
    "import time \n",
    " \n",
    "import numpy as np \n",
    "import matplotlib.pyplot as plt \n",
    "\n",
    "import json \n",
    "import time \n",
    "import pickle \n",
    "import sys \n",
    "import csv \n",
    "import os \n",
    "import os.path as osp \n",
    "import shutil \n",
    "import torch\n",
    "import torch.nn as nn\n",
    "import torch.optim as optim\n",
    "from torch.nn.functional import normalize\n",
    "from torch.utils.data import TensorDataset, DataLoader\n",
    "from torchvision import datasets\n",
    "import torchvision.transforms as transforms\n",
    "from PIL import Image\n",
    "from tqdm import tqdm\n",
    "import pandas as pd\n",
    "import argparse\n",
    "from IPython.display import display, HTML\n",
    " \n",
    "%matplotlib inline \n",
    "plt.rcParams['figure.figsize'] = (10.0, 8.0) # set default size of plots \n",
    "plt.rcParams['image.interpolation'] = 'nearest' \n",
    "plt.rcParams['image.cmap'] = 'gray' \n",
    " \n",
    "# for auto-reloading external modules \n",
    "# see http://stackoverflow.com/questions/1907993/autoreload-of-modules-in-ipython \n",
    "%load_ext autoreload\n",
    "%autoreload 2"
   ]
  },
  {
   "cell_type": "code",
   "execution_count": 3,
   "metadata": {
    "id": "640GrzbOevr0"
   },
   "outputs": [],
   "source": [
    "# Load other libraries here.\n",
    "# Keep it minimal! We should be easily able to reproduce your code.\n",
    "\n",
    "# We only support sklearn and pytorch.\n",
    "\n",
    "# Please set random seed to have reproduceable results, e.g. torch.manual_seed(123)\n"
   ]
  },
  {
   "cell_type": "markdown",
   "metadata": {
    "id": "nxi-lLD0mKHD"
   },
   "source": [
    "Helpers\n",
    "\n",
    "In case you choose to have some methods you plan to reuse during the notebook, define them here. This will avoid clutter and keep rest of the notebook succinct."
   ]
  },
  {
   "cell_type": "code",
   "execution_count": 2,
   "metadata": {
    "id": "VBbigqdEmKd8"
   },
   "outputs": [],
   "source": [
    "def identity_func(foo):\n",
    "    return foo\n",
    "\n",
    "\n",
    "# ------- Your Code -------\n",
    "def plot_history(history):\n",
    "    history = np.array(history)\n",
    "    plt.plot(history[:, 0:2])\n",
    "    plt.legend(['Train Loss', 'Val Loss'])\n",
    "    plt.xlabel('Epoch Number')\n",
    "    plt.ylabel('Loss')\n",
    "    plt.ylim(0, 1.1)\n",
    "    #plt.savefig(dataset+'_loss_curve.png')\n",
    "    plt.show()\n",
    "\n",
    "    plt.plot(history[:, 2:4])\n",
    "    plt.legend(['Train Accuracy', 'Val Accuracy'])\n",
    "    plt.xlabel('Epoch Number')\n",
    "    plt.ylabel('Accuracy')\n",
    "    plt.ylim(0, 1.1)\n",
    "    #plt.savefig(dataset+'_accuracy_curve.png')\n",
    "    plt.show()\n",
    "\n",
    "\n",
    "# You can use this function to flatten 2D inputs\n",
    "def flatten_input_pixels(x_input):\n",
    "    result = []\n",
    "    for i in range(len(x_input)):\n",
    "        result.append(x_input[i].flatten())\n",
    "    return np.array(result, np.uint8)  # [n_samples, n_features]\n",
    "\n",
    "\n",
    "# You can use this function to plot the accuracy of the models with different parametes\n",
    "def plot_scores(x, y, title = \"Title\", x_label = \"X\", y_label = \"Y\"):\n",
    "    fig, ax = plt.subplots(nrows=1,ncols=1)\n",
    "\n",
    "    ax.plot(x, y)\n",
    "    ax.set_xticks(x)\n",
    "    ax.set_title(title)\n",
    "    ax.set_xlabel(x_label)\n",
    "    ax.set_ylabel(y_label)\n",
    "    ax.set_ylim(0.6, 1.0)\n",
    "\n",
    "# You can use this function to visualize input images and the predictions of your models\n",
    "# \"y_pred\" is output of your model \n",
    "# \"n_val\" is number of instances in test or validation sets\n",
    "def vis_predictions(x_eval, y_pred, n_val):\n",
    "    rows, cols = 4, 3\n",
    "\n",
    "    fig,ax = plt.subplots(nrows = rows, ncols = cols)\n",
    "\n",
    "    ids = np.random.randint(0,n_val,rows*cols)\n",
    "    for i in range(cols):   \n",
    "        for j in range(rows):\n",
    "            ax[j][i].set_title('predicted label: {0}'. format(y_pred[ids[(i*rows)+j]]))\n",
    "            two_d = (np.reshape(x_eval[ids[(i*rows)+j]], (28, 28))).astype(np.uint8)\n",
    "            ax[j][i].imshow(two_d)\n",
    "            ax[j][i].axes.get_xaxis().set_visible(False)\n",
    "            ax[j][i].axes.get_yaxis().set_visible(False)\n",
    "\n",
    "\n",
    "    plt.tight_layout()  "
   ]
  },
  {
   "cell_type": "markdown",
   "metadata": {
    "id": "n1pcmKkyjT7y"
   },
   "source": [
    "# 1. Loading and Visualizing data (5 points)\n",
    "\n",
    "In this section, you'll need to prepare the MNIST data for the experiments you'll be conducting for the remainder of the notebook."
   ]
  },
  {
   "cell_type": "markdown",
   "metadata": {
    "id": "AIU9Q762fmoT"
   },
   "source": [
    "## 1.1. Load Data\n",
    "\n",
    "Here you'll load the MNIST data into memory. The end-goal is to two have the following variables:\n",
    "  * `x_trainval`, `x_test`: of shape $N \\times d_1 \\times d_2 \\dots$ (e.g., $N \\times 784$. 784 since you could flatten each 28x28 pixel image into a single vector)\n",
    "  * `y_trainval`, `y_test`: of shape $N \\times K$ (K = 1 or 10 depending on how you plan to represent the ground-truth digit annotation)\n",
    "\n",
    "You can either do this by:\n",
    "  1. Downloading the MNIST dataset, unpacking and preparing it yourself to have fine-grained control\n",
    "  1. Using high-level existing functions, such as the one provided by  [`torchvision.datasets`](https://pytorch.org/docs/stable/torchvision/datasets.html#mnist).\n",
    "  \n",
    "  \n",
    "  In either case, it is important that you have disjoint train, val, and test splits!"
   ]
  },
  {
   "cell_type": "code",
   "execution_count": 3,
   "metadata": {
    "id": "7kYacpo_jvao",
    "tags": []
   },
   "outputs": [],
   "source": [
    "\n",
    "# ------- Your Code -------\n",
    "\n",
    "device = torch.device('cuda:0' if torch.cuda.is_available() else 'cpu')\n",
    "# normalizer\n",
    "transform = transforms.Compose([\n",
    "    transforms.ToTensor(),\n",
    "    transforms.Normalize((.5, ), (.5, ))\n",
    "    \n",
    "])\n",
    "# load training and test set\n",
    "mnist_trainset = datasets.MNIST(root='/home/xiaoyu13/q_recall_and_rank/data', train=True, download=False, transform=transform)\n",
    "mnist_testset = datasets.MNIST(root='/home/xiaoyu13/q_recall_and_rank/data', train=False, download=False, transform=transform)\n",
    "\n",
    "\n",
    "# assign x, y\n",
    "x_trainval = [n[0] for n in mnist_trainset]\n",
    "y_trainval = [torch.tensor(n[1]) for n in mnist_trainset]\n",
    "x_test = [n[0] for n in mnist_testset]\n",
    "y_test = [torch.tensor(n[1]) for n in mnist_testset]\n",
    "\n",
    "# print('x_trainval.shape = {},  y_trainval.shape = {}'.format(x_trainval.shape, y_trainval.shape))\n",
    "# print('x_test.shape = {},  y_test.shape = {}'.format(x_test.shape, y_test.shape))\n",
    "\n",
    "#\n",
    "# Feel free to have multiple variables in case your models are designed for different formats\n",
    "# For instance, in case your model requires Nx28x28 inputs, declare x_trainval_3d, etc.\n",
    "\n",
    "# Tip: Set this to a tiny number (such 0.05) to aid debugging\n",
    "# After all, you do not want to train/evaluate on the entire dataset to find bugs\n",
    "DEBUG_FRAC = 0.05\n",
    "x_trainval = x_trainval[:int(len(x_trainval)*DEBUG_FRAC)]\n",
    "y_trainval = y_trainval[:int(len(y_trainval)*DEBUG_FRAC)]\n"
   ]
  },
  {
   "cell_type": "code",
   "execution_count": 4,
   "metadata": {
    "collapsed": true,
    "jupyter": {
     "outputs_hidden": true
    },
    "tags": []
   },
   "outputs": [
    {
     "data": {
      "text/plain": [
       "[tensor(7),\n",
       " tensor(2),\n",
       " tensor(1),\n",
       " tensor(0),\n",
       " tensor(4),\n",
       " tensor(1),\n",
       " tensor(4),\n",
       " tensor(9),\n",
       " tensor(5),\n",
       " tensor(9)]"
      ]
     },
     "execution_count": 4,
     "metadata": {},
     "output_type": "execute_result"
    }
   ],
   "source": [
    "y_test[:10]"
   ]
  },
  {
   "cell_type": "markdown",
   "metadata": {
    "id": "eA6_cejNjzYw"
   },
   "source": [
    "#### 1.2. Visualize Data\n",
    "\n",
    "To get the hang of your data you'll be training a digit classifier on, visualize it.\n",
    "\n",
    "Examples of ways to visualize it:\n",
    "  * Given a digit, display few randomly sampled images for this digit (the bare minimum)\n",
    "  * Visualize as a grid (e.g., Slide 4, [Lecture 2](https://cms.cispa.saarland/mlcysec19/dl/4/2019-10-24-ml.pdf)) using a combination of `plt.imshow` and `plt.subplots`\n",
    "  \n",
    "It's up to you to decide how you want to do this. The end-goal is for you to potentially give a trailer of the dataset to someone who hasn't seen it before."
   ]
  },
  {
   "cell_type": "code",
   "execution_count": 5,
   "metadata": {
    "id": "dISIbt4plyoD"
   },
   "outputs": [
    {
     "data": {
      "image/png": "[encoded data removed]",
      "text/plain": [
       "<Figure size 720x576 with 100 Axes>"
      ]
     },
     "metadata": {
      "needs_background": "light"
     },
     "output_type": "display_data"
    }
   ],
   "source": [
    "# Visualize 10 examples of 10 classes. You can extend the following code:\n",
    "rows, cols = 10, 10\n",
    "fig, axs = plt.subplots(nrows = rows, ncols = cols)\n",
    "\n",
    "#\n",
    "#\n",
    "# ------- Your Code -------\n",
    "#\n",
    "#\n",
    "nums = [10]*10\n",
    "for idx, img in enumerate(x_trainval):\n",
    "    if sum(nums) == 0:\n",
    "        break\n",
    "    j = y_trainval[idx]\n",
    "    i = 10 - nums[j]\n",
    "    if i > 9:\n",
    "        continue\n",
    "    axs[j, i].imshow(img.squeeze().numpy())\n",
    "    axs[j ,i].axis('off')\n",
    "    nums[j] -= 1\n",
    "plt.savefig('fig1.pdf')   # Save the figures\n",
    "plt.show()   # These should be some visualization of data at the end of this section\n",
    "\n",
    "# You can see an output example in the follow:"
   ]
  },
  {
   "cell_type": "code",
   "execution_count": null,
   "metadata": {},
   "outputs": [],
   "source": []
  },
  {
   "cell_type": "markdown",
   "metadata": {
    "id": "b8sAT53jmJ8_",
    "tags": []
   },
   "source": [
    "# 2. Digit classifiers\n",
    "\n",
    "In this section, you'll begin developing models to perform digit classification.\n",
    "\n",
    "Each model needs to be structured like so:\n",
    "  1. Give a brief reason which model you are going to train and why you choose it\n",
    "  1. Define hyper-parameters for model and optimization procedure\n",
    "  1. Define your model\n",
    "  1. Define optimization method and fit model to data\n",
    "  1. Summarize your findings\n",
    "\n",
    "\n",
    "\n",
    "\n",
    "\n"
   ]
  },
  {
   "cell_type": "markdown",
   "metadata": {
    "id": "xkF-7eFnpWoe",
    "tags": []
   },
   "source": [
    "## 2.1: Model [M1]: *SVM* (25 points)\n",
    "\n",
    "**Short description**: *fill this in*"
   ]
  },
  {
   "cell_type": "markdown",
   "metadata": {
    "id": "lVyT9Oddp3GB"
   },
   "source": [
    "### 2.1.1: Hyper-parameters\n",
    "\n",
    "Define hyper-parameters for your model here"
   ]
  },
  {
   "cell_type": "code",
   "execution_count": 34,
   "metadata": {
    "id": "yuHt4T7Vp5NC"
   },
   "outputs": [],
   "source": [
    "#\n",
    "#\n",
    "# ------- Your Code -------\n",
    "#\n",
    "#\n",
    "\n",
    "degree = np.asarray([1,2,3]) # example\n",
    "\n",
    "\n",
    "test_set = 'val'  #  or 'test'\n",
    "# Decide all your hyperparameters based on validation performance\n",
    "# Then, switch to 'test' for final evaluation\n",
    "\n",
    "train_size = int(0.7 * len(x_trainval))\n",
    "if test_set == 'val':\n",
    "    train_idxs, val_idxs = slice(train_size), slice(train_size, -1)   # Fill in\n",
    "    x_train, y_train = x_trainval[train_idxs], y_trainval[train_idxs]\n",
    "    x_val, y_val = x_trainval[val_idxs], y_trainval[val_idxs]\n",
    "else:\n",
    "    x_train, y_train = x_trainval, y_trainval\n",
    "    x_eval, y_eval = x_test, y_test\n",
    "\n"
   ]
  },
  {
   "cell_type": "markdown",
   "metadata": {
    "id": "-ZhVgrFM01FF"
   },
   "source": [
    "### 2.1.2: Data Preprocessing\n"
   ]
  },
  {
   "cell_type": "code",
   "execution_count": 35,
   "metadata": {
    "id": "vzJ1X7ek01FF"
   },
   "outputs": [],
   "source": [
    "#\n",
    "#\n",
    "# ------- Your Code -------\n",
    "#\n",
    "# e.g. normalize, flatten input data.\n",
    "x_train = [x.squeeze(0).view(-1, 28*28) for x in x_train]\n",
    "x_val = [x.squeeze(0).view(-1, 28*28) for x in x_val]\n",
    "x_test = [x.squeeze(0).view(-1, 28*28) for x in x_test]"
   ]
  },
  {
   "cell_type": "markdown",
   "metadata": {
    "id": "pkuCgPatp59X"
   },
   "source": [
    "### 2.1.3: Model\n",
    "\n",
    "Define your model here"
   ]
  },
  {
   "cell_type": "code",
   "execution_count": 52,
   "metadata": {
    "id": "3qV3SuPAp6XF"
   },
   "outputs": [],
   "source": [
    "# ------- Your Code -------\n",
    "def train(model, optimizer, loss_f, scheduler, device=None, epochs=10):\n",
    "    acc_list = []\n",
    "    best_acc = 0\n",
    "    best_model = './run/best_svm.pth'\n",
    "    for epoch in tqdm(range(epochs)):\n",
    "        train_loss = 0\n",
    "        val_loss = 0\n",
    "        train_acc = 0\n",
    "        val_acc = 0\n",
    "        \n",
    "        start = time.time()\n",
    "        # start training\n",
    "        model.train()\n",
    "        optimizer.zero_grad()\n",
    "        \n",
    "        i = 0\n",
    "        for x, y in zip(x_train, y_train):\n",
    "            i += 1\n",
    "            x = x.to(device)\n",
    "            output = model(x)\n",
    "            # output = normalize(output, p=1.0)\n",
    "            _, pred = torch.max(output, 1)\n",
    "            # if i < 10:\n",
    "            #     print(output, y, pred)\n",
    "            # loss = loss_f(output[0][pred.item()], torch.tensor(-1))\n",
    "            correct = output[:, y].unsqueeze(0)\n",
    "            loss = loss_f(output, correct)\n",
    "            loss = torch.sum(torch.max(loss, 1)[0])\n",
    "            train_loss += loss\n",
    "            train_acc += (pred == y)\n",
    "            loss.backward()\n",
    "            optimizer.step()\n",
    "        scheduler.step()\n",
    "            \n",
    "        end = time.time()\n",
    "        \n",
    "        # start evalidation\n",
    "        with torch.no_grad():\n",
    "            model.eval()\n",
    "            \n",
    "            for x, y in zip(x_val, y_val):\n",
    "                x = x.to(device)\n",
    "                output = model(x)\n",
    "                _, pred = torch.max(output, 1)\n",
    "                correct = output[:, y].unsqueeze(0)\n",
    "                loss = loss_f(output, correct)\n",
    "                loss = torch.sum(torch.max(loss, 1)[0])\n",
    "                val_loss += loss\n",
    "                val_acc += (pred == y)\n",
    "            if val_acc > best_acc:\n",
    "                if not os.path.exists(os.path.dirname(best_model)):\n",
    "                    os.makedirs(os.path.dirname(best_model))\n",
    "                best_acc = val_acc\n",
    "                best_epoch = epoch\n",
    "                torch.save(model.state_dict(), best_model)\n",
    "                \n",
    "        acc_list.append(val_acc.item()/len(x_val))\n",
    "        print(\"Epoch: {}, runtime: {:.4f}s\".format(epoch, end-start))\n",
    "        print(\"train_loss: {:.4f}, train_acc: {:.4f}\\n\"\n",
    "              \"val_loss: {:.4f}, val_acc: {:.4f}\".format(train_loss.item()/len(x_train), train_acc.item()/len(x_train),\\\n",
    "                                                        val_loss/len(x_val), val_acc.item()/len(x_val)))\n",
    "        print(\"best acc at epoch: {}\".format(best_epoch))\n",
    "    return acc_list"
   ]
  },
  {
   "cell_type": "markdown",
   "metadata": {
    "id": "SxE6d6OXp6sU"
   },
   "source": [
    "### 2.1.4: Fit Model\n",
    "\n",
    "Define optimization procedure and fit your model to the data"
   ]
  },
  {
   "cell_type": "code",
   "execution_count": 53,
   "metadata": {
    "collapsed": true,
    "id": "08tLwuchp68-",
    "jupyter": {
     "outputs_hidden": true
    },
    "tags": []
   },
   "outputs": [
    {
     "name": "stderr",
     "output_type": "stream",
     "text": [
      "  3%|▎         | 1/30 [00:02<00:59,  2.06s/it]"
     ]
    },
    {
     "name": "stdout",
     "output_type": "stream",
     "text": [
      "Epoch: 0, runtime: 1.7990s\n",
      "train_loss: 1175.4455, train_acc: 0.5295\n",
      "val_loss: 1989.6248, val_acc: 0.6852\n",
      "best acc at epoch: 0\n"
     ]
    },
    {
     "name": "stderr",
     "output_type": "stream",
     "text": [
      "  7%|▋         | 2/30 [00:04<00:57,  2.05s/it]"
     ]
    },
    {
     "name": "stdout",
     "output_type": "stream",
     "text": [
      "Epoch: 1, runtime: 1.7908s\n",
      "train_loss: 1591.7377, train_acc: 0.7376\n",
      "val_loss: 2458.6008, val_acc: 0.6785\n",
      "best acc at epoch: 0\n"
     ]
    },
    {
     "name": "stderr",
     "output_type": "stream",
     "text": [
      " 10%|█         | 3/30 [00:06<00:55,  2.06s/it]"
     ]
    },
    {
     "name": "stdout",
     "output_type": "stream",
     "text": [
      "Epoch: 2, runtime: 1.8049s\n",
      "train_loss: 1955.9520, train_acc: 0.7167\n",
      "val_loss: 2273.8499, val_acc: 0.6930\n",
      "best acc at epoch: 2\n"
     ]
    },
    {
     "name": "stderr",
     "output_type": "stream",
     "text": [
      " 13%|█▎        | 4/30 [00:08<00:53,  2.07s/it]"
     ]
    },
    {
     "name": "stdout",
     "output_type": "stream",
     "text": [
      "Epoch: 3, runtime: 1.8326s\n",
      "train_loss: 1357.0274, train_acc: 0.7824\n",
      "val_loss: 1584.4631, val_acc: 0.7486\n",
      "best acc at epoch: 3\n"
     ]
    },
    {
     "name": "stderr",
     "output_type": "stream",
     "text": [
      " 17%|█▋        | 5/30 [00:10<00:51,  2.06s/it]"
     ]
    },
    {
     "name": "stdout",
     "output_type": "stream",
     "text": [
      "Epoch: 4, runtime: 1.7769s\n",
      "train_loss: 1067.2193, train_acc: 0.8114\n",
      "val_loss: 1017.3004, val_acc: 0.8343\n",
      "best acc at epoch: 4\n"
     ]
    },
    {
     "name": "stderr",
     "output_type": "stream",
     "text": [
      " 20%|██        | 6/30 [00:12<00:50,  2.12s/it]"
     ]
    },
    {
     "name": "stdout",
     "output_type": "stream",
     "text": [
      "Epoch: 5, runtime: 1.9139s\n",
      "train_loss: 708.6443, train_acc: 0.8471\n",
      "val_loss: 1198.4172, val_acc: 0.8076\n",
      "best acc at epoch: 4\n"
     ]
    },
    {
     "name": "stderr",
     "output_type": "stream",
     "text": [
      " 23%|██▎       | 7/30 [00:14<00:49,  2.16s/it]"
     ]
    },
    {
     "name": "stdout",
     "output_type": "stream",
     "text": [
      "Epoch: 6, runtime: 1.9932s\n",
      "train_loss: 831.8315, train_acc: 0.8552\n",
      "val_loss: 1270.7714, val_acc: 0.7998\n",
      "best acc at epoch: 4\n"
     ]
    },
    {
     "name": "stderr",
     "output_type": "stream",
     "text": [
      " 27%|██▋       | 8/30 [00:16<00:46,  2.12s/it]"
     ]
    },
    {
     "name": "stdout",
     "output_type": "stream",
     "text": [
      "Epoch: 7, runtime: 1.7628s\n",
      "train_loss: 563.5968, train_acc: 0.8790\n",
      "val_loss: 1052.9879, val_acc: 0.7964\n",
      "best acc at epoch: 4\n"
     ]
    },
    {
     "name": "stderr",
     "output_type": "stream",
     "text": [
      " 30%|███       | 9/30 [00:18<00:43,  2.09s/it]"
     ]
    },
    {
     "name": "stdout",
     "output_type": "stream",
     "text": [
      "Epoch: 8, runtime: 1.7588s\n",
      "train_loss: 494.7984, train_acc: 0.8862\n",
      "val_loss: 839.3908, val_acc: 0.8576\n",
      "best acc at epoch: 8\n"
     ]
    },
    {
     "name": "stderr",
     "output_type": "stream",
     "text": [
      " 33%|███▎      | 10/30 [00:20<00:41,  2.08s/it]"
     ]
    },
    {
     "name": "stdout",
     "output_type": "stream",
     "text": [
      "Epoch: 9, runtime: 1.8032s\n",
      "train_loss: 393.9927, train_acc: 0.9119\n",
      "val_loss: 670.5759, val_acc: 0.8565\n",
      "best acc at epoch: 8\n"
     ]
    },
    {
     "name": "stderr",
     "output_type": "stream",
     "text": [
      " 37%|███▋      | 11/30 [00:22<00:39,  2.07s/it]"
     ]
    },
    {
     "name": "stdout",
     "output_type": "stream",
     "text": [
      "Epoch: 10, runtime: 1.7773s\n",
      "train_loss: 320.9093, train_acc: 0.9167\n",
      "val_loss: 596.6793, val_acc: 0.8966\n",
      "best acc at epoch: 10\n"
     ]
    },
    {
     "name": "stderr",
     "output_type": "stream",
     "text": [
      " 40%|████      | 12/30 [00:25<00:37,  2.07s/it]"
     ]
    },
    {
     "name": "stdout",
     "output_type": "stream",
     "text": [
      "Epoch: 11, runtime: 1.8021s\n",
      "train_loss: 291.6640, train_acc: 0.9286\n",
      "val_loss: 594.7101, val_acc: 0.8699\n",
      "best acc at epoch: 10\n"
     ]
    },
    {
     "name": "stderr",
     "output_type": "stream",
     "text": [
      " 43%|████▎     | 13/30 [00:27<00:35,  2.10s/it]"
     ]
    },
    {
     "name": "stdout",
     "output_type": "stream",
     "text": [
      "Epoch: 12, runtime: 1.9276s\n",
      "train_loss: 277.0607, train_acc: 0.9262\n",
      "val_loss: 550.2546, val_acc: 0.8954\n",
      "best acc at epoch: 10\n"
     ]
    },
    {
     "name": "stderr",
     "output_type": "stream",
     "text": [
      " 47%|████▋     | 14/30 [00:29<00:34,  2.13s/it]"
     ]
    },
    {
     "name": "stdout",
     "output_type": "stream",
     "text": [
      "Epoch: 13, runtime: 1.9534s\n",
      "train_loss: 259.0970, train_acc: 0.9362\n",
      "val_loss: 571.0095, val_acc: 0.8788\n",
      "best acc at epoch: 10\n"
     ]
    },
    {
     "name": "stderr",
     "output_type": "stream",
     "text": [
      " 50%|█████     | 15/30 [00:31<00:32,  2.18s/it]"
     ]
    },
    {
     "name": "stdout",
     "output_type": "stream",
     "text": [
      "Epoch: 14, runtime: 2.0228s\n",
      "train_loss: 268.4678, train_acc: 0.9271\n",
      "val_loss: 518.9243, val_acc: 0.8843\n",
      "best acc at epoch: 10\n"
     ]
    },
    {
     "name": "stderr",
     "output_type": "stream",
     "text": [
      " 53%|█████▎    | 16/30 [00:33<00:30,  2.18s/it]"
     ]
    },
    {
     "name": "stdout",
     "output_type": "stream",
     "text": [
      "Epoch: 15, runtime: 1.9483s\n",
      "train_loss: 238.6687, train_acc: 0.9352\n",
      "val_loss: 506.2458, val_acc: 0.8921\n",
      "best acc at epoch: 10\n"
     ]
    },
    {
     "name": "stderr",
     "output_type": "stream",
     "text": [
      " 57%|█████▋    | 17/30 [00:36<00:28,  2.18s/it]"
     ]
    },
    {
     "name": "stdout",
     "output_type": "stream",
     "text": [
      "Epoch: 16, runtime: 1.9036s\n",
      "train_loss: 228.9124, train_acc: 0.9395\n",
      "val_loss: 501.2491, val_acc: 0.8910\n",
      "best acc at epoch: 10\n"
     ]
    },
    {
     "name": "stderr",
     "output_type": "stream",
     "text": [
      " 60%|██████    | 18/30 [00:38<00:25,  2.12s/it]"
     ]
    },
    {
     "name": "stdout",
     "output_type": "stream",
     "text": [
      "Epoch: 17, runtime: 1.7178s\n",
      "train_loss: 223.2403, train_acc: 0.9414\n",
      "val_loss: 495.6361, val_acc: 0.8899\n",
      "best acc at epoch: 10\n"
     ]
    },
    {
     "name": "stderr",
     "output_type": "stream",
     "text": [
      " 63%|██████▎   | 19/30 [00:39<00:22,  2.07s/it]"
     ]
    },
    {
     "name": "stdout",
     "output_type": "stream",
     "text": [
      "Epoch: 18, runtime: 1.7234s\n",
      "train_loss: 220.0816, train_acc: 0.9424\n",
      "val_loss: 496.3067, val_acc: 0.8921\n",
      "best acc at epoch: 10\n"
     ]
    },
    {
     "name": "stderr",
     "output_type": "stream",
     "text": [
      " 67%|██████▋   | 20/30 [00:41<00:20,  2.05s/it]"
     ]
    },
    {
     "name": "stdout",
     "output_type": "stream",
     "text": [
      "Epoch: 19, runtime: 1.7433s\n",
      "train_loss: 218.4052, train_acc: 0.9419\n",
      "val_loss: 497.5734, val_acc: 0.8921\n",
      "best acc at epoch: 10\n"
     ]
    },
    {
     "name": "stderr",
     "output_type": "stream",
     "text": [
      " 70%|███████   | 21/30 [00:43<00:18,  2.03s/it]"
     ]
    },
    {
     "name": "stdout",
     "output_type": "stream",
     "text": [
      "Epoch: 20, runtime: 1.7321s\n",
      "train_loss: 217.3025, train_acc: 0.9429\n",
      "val_loss: 499.1301, val_acc: 0.8910\n",
      "best acc at epoch: 10\n"
     ]
    },
    {
     "name": "stderr",
     "output_type": "stream",
     "text": [
      " 73%|███████▎  | 22/30 [00:46<00:16,  2.03s/it]"
     ]
    },
    {
     "name": "stdout",
     "output_type": "stream",
     "text": [
      "Epoch: 21, runtime: 1.7830s\n",
      "train_loss: 215.7943, train_acc: 0.9429\n",
      "val_loss: 499.0286, val_acc: 0.8910\n",
      "best acc at epoch: 10\n"
     ]
    },
    {
     "name": "stderr",
     "output_type": "stream",
     "text": [
      " 77%|███████▋  | 23/30 [00:48<00:14,  2.02s/it]"
     ]
    },
    {
     "name": "stdout",
     "output_type": "stream",
     "text": [
      "Epoch: 22, runtime: 1.7518s\n",
      "train_loss: 215.6878, train_acc: 0.9429\n",
      "val_loss: 498.9264, val_acc: 0.8910\n",
      "best acc at epoch: 10\n"
     ]
    },
    {
     "name": "stderr",
     "output_type": "stream",
     "text": [
      " 80%|████████  | 24/30 [00:50<00:12,  2.02s/it]"
     ]
    },
    {
     "name": "stdout",
     "output_type": "stream",
     "text": [
      "Epoch: 23, runtime: 1.7474s\n",
      "train_loss: 215.5812, train_acc: 0.9429\n",
      "val_loss: 498.8265, val_acc: 0.8921\n",
      "best acc at epoch: 10\n"
     ]
    },
    {
     "name": "stderr",
     "output_type": "stream",
     "text": [
      " 83%|████████▎ | 25/30 [00:52<00:10,  2.02s/it]"
     ]
    },
    {
     "name": "stdout",
     "output_type": "stream",
     "text": [
      "Epoch: 24, runtime: 1.7617s\n",
      "train_loss: 215.4669, train_acc: 0.9429\n",
      "val_loss: 498.6457, val_acc: 0.8921\n",
      "best acc at epoch: 10\n"
     ]
    },
    {
     "name": "stderr",
     "output_type": "stream",
     "text": [
      " 87%|████████▋ | 26/30 [00:54<00:08,  2.03s/it]"
     ]
    },
    {
     "name": "stdout",
     "output_type": "stream",
     "text": [
      "Epoch: 25, runtime: 1.8235s\n",
      "train_loss: 215.3477, train_acc: 0.9433\n",
      "val_loss: 498.5604, val_acc: 0.8921\n",
      "best acc at epoch: 10\n"
     ]
    },
    {
     "name": "stderr",
     "output_type": "stream",
     "text": [
      " 90%|█████████ | 27/30 [00:56<00:06,  2.04s/it]"
     ]
    },
    {
     "name": "stdout",
     "output_type": "stream",
     "text": [
      "Epoch: 26, runtime: 1.7939s\n",
      "train_loss: 215.2468, train_acc: 0.9429\n",
      "val_loss: 498.4634, val_acc: 0.8921\n",
      "best acc at epoch: 10\n"
     ]
    },
    {
     "name": "stderr",
     "output_type": "stream",
     "text": [
      " 93%|█████████▎| 28/30 [00:58<00:04,  2.07s/it]"
     ]
    },
    {
     "name": "stdout",
     "output_type": "stream",
     "text": [
      "Epoch: 27, runtime: 1.8029s\n",
      "train_loss: 215.1317, train_acc: 0.9433\n",
      "val_loss: 498.3784, val_acc: 0.8921\n",
      "best acc at epoch: 10\n"
     ]
    },
    {
     "name": "stderr",
     "output_type": "stream",
     "text": [
      " 97%|█████████▋| 29/30 [01:00<00:02,  2.07s/it]"
     ]
    },
    {
     "name": "stdout",
     "output_type": "stream",
     "text": [
      "Epoch: 28, runtime: 1.8092s\n",
      "train_loss: 214.9903, train_acc: 0.9433\n",
      "val_loss: 498.3782, val_acc: 0.8921\n",
      "best acc at epoch: 10\n"
     ]
    },
    {
     "name": "stderr",
     "output_type": "stream",
     "text": [
      "100%|██████████| 30/30 [01:02<00:00,  2.08s/it]"
     ]
    },
    {
     "name": "stdout",
     "output_type": "stream",
     "text": [
      "Epoch: 29, runtime: 1.8843s\n",
      "train_loss: 214.9854, train_acc: 0.9433\n",
      "val_loss: 498.3782, val_acc: 0.8921\n",
      "best acc at epoch: 10\n"
     ]
    },
    {
     "name": "stderr",
     "output_type": "stream",
     "text": [
      "\n"
     ]
    }
   ],
   "source": [
    "# ------- Your Code -------\n",
    "#  Please save the trained model\n",
    "\n",
    "model = nn.Linear(28*28, 10).to(device)\n",
    "# model = nn.Sequential(\n",
    "#             nn.Linear(28*28, 10),\n",
    "#             nn.sign()\n",
    "#         )\n",
    "\n",
    "# loss_f = nn.HingeEmbeddingLoss(reduction='sum')\n",
    "loss_f = lambda output, correct : output - correct + 1.0 \n",
    "optimizer = optim.SGD(model.parameters(), lr=1e-3, momentum=0.8)\n",
    "scheduler = optim.lr_scheduler.StepLR(optimizer, step_size=7, gamma=0.1)\n",
    "device = torch.device('cuda:0') if torch.cuda.is_available() else torch.device('cpu')\n",
    "acc_list = train(model, optimizer, loss_f, scheduler, device, 30)"
   ]
  },
  {
   "cell_type": "markdown",
   "metadata": {
    "id": "QaJv_d_Dp7OM"
   },
   "source": [
    "### 2.1.5: Evaluation\n",
    "\n",
    "Evaluate your model.\n",
    "  * Evaluate models with different parameters \n",
    "  * Plot the score (accuracy) for each model using \"plot_scores\" function\n",
    "  * Report score for the best model\n",
    "  * Use \"vis_predictions\" function to visualize few examples of test/validation set with the corresponding predictions\n"
   ]
  },
  {
   "cell_type": "code",
   "execution_count": 62,
   "metadata": {
    "id": "kZtLgPZrp7h5"
   },
   "outputs": [
    {
     "name": "stdout",
     "output_type": "stream",
     "text": [
      "accuracy on test set: 0.8621\n"
     ]
    }
   ],
   "source": [
    "#\n",
    "#\n",
    "# ------- Your Code -------\n",
    "#\n",
    "# Example: y_pred = model.predict(x)\n",
    "y_pred = []\n",
    "model.load_state_dict(torch.load('./run/best_svm.pth'))\n",
    "with torch.no_grad():\n",
    "    acc = 0\n",
    "    for x, y in zip(x_test, y_test):\n",
    "        x = x.to(device)\n",
    "        output = model(x)\n",
    "        _, pred = torch.max(output, 1)\n",
    "        y_pred.append(pred.cpu().item())\n",
    "        acc += (pred == y)\n",
    "    print(\"accuracy on test set: {:.4f}\".format(acc.item()/len(x_test)))"
   ]
  },
  {
   "cell_type": "code",
   "execution_count": null,
   "metadata": {
    "id": "QFnNiFCI01FH"
   },
   "outputs": [],
   "source": [
    "# Here plot score (accuracy) for each model. You can use \"plot_scores\" function.\n",
    "\n",
    "# Example: plot_scores(parameters, scores, \"title\", \"x_label\", \"y_label\"), \n",
    "\n",
    "# You can see an example in the follow.\n",
    "# Note that the visualizations/plots provided are just simple examples/illustrations. \n",
    "# We encourage more informative and alternate methods to present results."
   ]
  },
  {
   "cell_type": "code",
   "execution_count": 56,
   "metadata": {
    "id": "xZ_OYghL01FH"
   },
   "outputs": [
    {
     "data": {
      "image/png": "[encoded data removed]",
      "text/plain": [
       "<Figure size 432x288 with 1 Axes>"
      ]
     },
     "metadata": {
      "needs_background": "light"
     },
     "output_type": "display_data"
    }
   ],
   "source": [
    "# Here report the score for the best model\n",
    "#\n",
    "# ------- Your Code -------\n",
    "plot_scores(list(range(30)), acc_list, 'history', 'epoch', 'acc')"
   ]
  },
  {
   "cell_type": "code",
   "execution_count": 66,
   "metadata": {
    "id": "UXygRW8D01FH"
   },
   "outputs": [
    {
     "data": {
      "image/png": "[encoded data removed]",
      "text/plain": [
       "<Figure size 432x288 with 12 Axes>"
      ]
     },
     "metadata": {
      "needs_background": "light"
     },
     "output_type": "display_data"
    }
   ],
   "source": [
    "# Visualize the predictions\n",
    "# Example: vis_predictions(x_eval, y_pred, size_of_data)\n",
    "#\n",
    "#\n",
    "# ------- Your Code -------\n",
    "x_test_numpy = [x.numpy() for x in x_test]\n",
    "vis_predictions(x_test_numpy, y_pred, len(x_test))\n"
   ]
  },
  {
   "cell_type": "markdown",
   "metadata": {
    "id": "DEQrdyLHsUIu"
   },
   "source": [
    "### 2.1.6: Summary\n",
    "\n",
    "Summarize your findings:\n",
    " * Which hyper-parameters were important and how did they influence your results?  \n",
    " Ans: Learning rate for optimizer, at first I set it too large (0.01), which led to huge weight adjustment and \n",
    " cause almost all images been categoried to one class.\n",
    " * What were other design choices you faced?  \n",
    " Ans: This is my first choice, further choice could be bayes classifier.\n",
    " * Any other interesting insights  \n",
    " Ans: Because I would like to implement all models with pytorch, I used Linear module for SVM, and \n",
    " it is not so straight-forward enough to come up with the loss function for the outputs. Here I chose to implement hinge \n",
    " loss like this: after getting output with size 10, compute $loss = \\max\\{output^{(10)} - (output[i], \\cdots, output[i])^{(10)} + margin^{(10)}, 1\\}$\n",
    " , where $i$ is the correct class. "
   ]
  },
  {
   "cell_type": "markdown",
   "metadata": {
    "id": "Fcq52WUUs2Mm"
   },
   "source": [
    "# 2.2: Model [M2]: *kNN* (25 points)\n",
    "\n",
    "\n"
   ]
  },
  {
   "cell_type": "markdown",
   "metadata": {
    "id": "7XPGNsr701FI"
   },
   "source": [
    "### 2.2.1: Hyper-parameters\n",
    "\n",
    "Define hyper-parameters for your method here"
   ]
  },
  {
   "cell_type": "code",
   "execution_count": 5,
   "metadata": {
    "id": "1V-aANfA01FI"
   },
   "outputs": [],
   "source": [
    "#\n",
    "#\n",
    "# ------- Your Code -------\n",
    "#\n",
    "#\n",
    "\n",
    "degree = np.asarray([1,2,3]) # example\n",
    "\n",
    "# You don't need the following code, if you can use data from 2.1.1.\n",
    "\n",
    "test_set = 'test'  #  or 'test'\n",
    "# Decide all your hyperparameters based on validation performance\n",
    "# Then, switch to 'test' for final evaluation\n",
    "\n",
    "if test_set == 'val':\n",
    "    train_idxs, val_idxs = ..., ...   # Fill in\n",
    "    x_train, y_train = x_trainval[train_idxs], y_trainval[train_idxs]\n",
    "    x_eval, y_eval = x_trainval[val_idxs], y_trainval[val_idxs]\n",
    "else:\n",
    "    x_train, y_train = x_trainval, y_trainval\n",
    "    x_eval, y_eval = x_test, y_test"
   ]
  },
  {
   "cell_type": "markdown",
   "metadata": {
    "id": "nure4xC_01FK"
   },
   "source": [
    "### 2.2.2: Data Preprocessing\n"
   ]
  },
  {
   "cell_type": "code",
   "execution_count": 6,
   "metadata": {
    "id": "ak3VMb8S01FK"
   },
   "outputs": [],
   "source": [
    "#\n",
    "#\n",
    "# ------- Your Code -------\n",
    "#\n",
    "# e.g. normalize, flatten input data.\n",
    "\n",
    "x_train_1d = [x.squeeze(0).view(-1) for x in x_train]\n",
    "x_test_1d = [x.squeeze(0).view(-1) for x in x_eval]\n",
    "\n",
    "x_train_tensor = torch.stack(x_train_1d)\n",
    "y_train_tensor = torch.stack(y_train)\n",
    "\n",
    "x_test_tensor = torch.stack(x_test_1d)\n",
    "y_test_tensor = torch.stack(y_eval)\n"
   ]
  },
  {
   "cell_type": "markdown",
   "metadata": {
    "id": "6oHcWedF01FK"
   },
   "source": [
    "### 2.2.3: Model\n",
    "\n",
    "Define your model here (all hyper-parameters in 2.1.1)"
   ]
  },
  {
   "cell_type": "code",
   "execution_count": 16,
   "metadata": {
    "id": "RalMhJvZ01FK"
   },
   "outputs": [],
   "source": [
    "#\n",
    "#\n",
    "# ------- Your Code -------\n",
    "class KNN():\n",
    "    def __init__(self, X, Y, k):\n",
    "        # train set for compare distance with test\n",
    "        self.x_ = X.to(device)\n",
    "        self.y_ = Y.to(device)\n",
    "        self.k = k\n",
    "        self.size_ = self.x_.shape[0]\n",
    "        \n",
    "    def predict(self, X, Y):\n",
    "        # test set\n",
    "        start = time.time()\n",
    "        self.x = X.to(device)\n",
    "        self.y = Y.to(device)\n",
    "        self.size = self.x.shape[0]\n",
    "#         print(self.size, self.size_)\n",
    "        \n",
    "        pow_x = torch.pow(self.x, 2).sum(1, keepdim=True).expand(self.size, self.size_)\n",
    "        pow_x_ = torch.pow(self.x_, 2).sum(1, keepdim=True).expand(self.size_, self.size).transpose(0, 1)\n",
    "        \n",
    "        # distance matrix d_mat[i, j] = distance(x_test[i], x_train[j])\n",
    "        d_mat = pow_x + pow_x_ - 2 * torch.matmul(self.x, self.x_.transpose(0, 1))\n",
    "        orders = torch.argsort(d_mat)\n",
    "        y_pred = []\n",
    "        for order in orders:\n",
    "            y_pred.append(np.bincount([self.y_[i] for i in order[:self.k]]).argmax())\n",
    "        end = time.time()\n",
    "        acc = torch.sum(torch.tensor(y_pred) == self.y.cpu()).item() / self.size\n",
    "        print('k: {}, runtime: {:.4f}s'.format(k, end - start))\n",
    "        print('accuracy on test set: {}'.format(acc))\n",
    "        return y_pred, acc\n",
    "        \n",
    "        "
   ]
  },
  {
   "cell_type": "markdown",
   "metadata": {
    "id": "C5k8P8PP01FL"
   },
   "source": [
    "### 2.2.4: Fit Model\n"
   ]
  },
  {
   "cell_type": "code",
   "execution_count": 29,
   "metadata": {
    "collapsed": true,
    "jupyter": {
     "outputs_hidden": true
    },
    "tags": []
   },
   "outputs": [
    {
     "name": "stdout",
     "output_type": "stream",
     "text": [
      "k: 1, runtime: 1.0743s\n",
      "accuracy on test set: 0.9191\n",
      "best acc when k=1\n",
      "k: 2, runtime: 1.3500s\n",
      "accuracy on test set: 0.903\n",
      "best acc when k=1\n",
      "k: 3, runtime: 1.5814s\n",
      "accuracy on test set: 0.9168\n",
      "best acc when k=1\n",
      "k: 4, runtime: 1.8270s\n",
      "accuracy on test set: 0.9147\n",
      "best acc when k=1\n",
      "k: 5, runtime: 2.0495s\n",
      "accuracy on test set: 0.9168\n",
      "best acc when k=1\n",
      "k: 6, runtime: 2.3708s\n",
      "accuracy on test set: 0.9136\n",
      "best acc when k=1\n",
      "k: 7, runtime: 2.6123s\n",
      "accuracy on test set: 0.9129\n",
      "best acc when k=1\n",
      "k: 8, runtime: 2.7854s\n",
      "accuracy on test set: 0.9102\n",
      "best acc when k=1\n",
      "k: 9, runtime: 3.0557s\n",
      "accuracy on test set: 0.9105\n",
      "best acc when k=1\n",
      "k: 10, runtime: 3.3535s\n",
      "accuracy on test set: 0.9082\n",
      "best acc when k=1\n",
      "k: 11, runtime: 3.6252s\n",
      "accuracy on test set: 0.9059\n",
      "best acc when k=1\n",
      "k: 12, runtime: 3.7934s\n",
      "accuracy on test set: 0.9048\n",
      "best acc when k=1\n",
      "k: 13, runtime: 4.1104s\n",
      "accuracy on test set: 0.9031\n",
      "best acc when k=1\n",
      "k: 14, runtime: 4.2982s\n",
      "accuracy on test set: 0.9017\n",
      "best acc when k=1\n",
      "k: 15, runtime: 4.6446s\n",
      "accuracy on test set: 0.9009\n",
      "best acc when k=1\n",
      "k: 16, runtime: 4.7749s\n",
      "accuracy on test set: 0.8995\n",
      "best acc when k=1\n",
      "k: 17, runtime: 5.1023s\n",
      "accuracy on test set: 0.8995\n",
      "best acc when k=1\n",
      "k: 18, runtime: 5.3138s\n",
      "accuracy on test set: 0.8958\n",
      "best acc when k=1\n",
      "k: 19, runtime: 5.5989s\n",
      "accuracy on test set: 0.8944\n",
      "best acc when k=1\n",
      "k: 20, runtime: 5.8110s\n",
      "accuracy on test set: 0.8947\n",
      "best acc when k=1\n",
      "k: 21, runtime: 6.1360s\n",
      "accuracy on test set: 0.892\n",
      "best acc when k=1\n",
      "k: 22, runtime: 6.2947s\n",
      "accuracy on test set: 0.8907\n",
      "best acc when k=1\n",
      "k: 23, runtime: 6.5837s\n",
      "accuracy on test set: 0.8889\n",
      "best acc when k=1\n",
      "k: 24, runtime: 6.8385s\n",
      "accuracy on test set: 0.8878\n",
      "best acc when k=1\n",
      "k: 25, runtime: 6.9978s\n",
      "accuracy on test set: 0.8885\n",
      "best acc when k=1\n",
      "k: 26, runtime: 7.3092s\n",
      "accuracy on test set: 0.8862\n",
      "best acc when k=1\n",
      "k: 27, runtime: 7.6161s\n",
      "accuracy on test set: 0.884\n",
      "best acc when k=1\n",
      "k: 28, runtime: 7.8289s\n",
      "accuracy on test set: 0.8828\n",
      "best acc when k=1\n",
      "k: 29, runtime: 8.0336s\n",
      "accuracy on test set: 0.8829\n",
      "best acc when k=1\n"
     ]
    }
   ],
   "source": [
    "# ------- Your Code -------\n",
    "\n",
    "best_k = 0\n",
    "best_acc = 0\n",
    "best_pred = None\n",
    "acc_list = []\n",
    "for k in range(1, 30):\n",
    "    knn = KNN(x_train_tensor, y_train_tensor, k)\n",
    "    y_pred, acc = knn.predict(x_test_tensor, y_test_tensor)\n",
    "    acc_list.append(acc)\n",
    "    if acc > best_acc:\n",
    "        best_k = k\n",
    "        best_acc = acc\n",
    "        best_pred = y_pred\n",
    "    print('best acc when k={}'.format(best_k))\n",
    "# torch.pow(a, 2).sum(1, keepdim=True).expand(4,3).transpose(0, 1)"
   ]
  },
  {
   "cell_type": "markdown",
   "metadata": {
    "id": "gNQKy7a901FL"
   },
   "source": [
    "### 2.2.5: Evaluation\n",
    "\n",
    "Evaluate your model.\n",
    "  * Evaluate models with different parameters \n",
    "  * Plot score (accuracy) for each model using \"plot_scores\" function\n",
    "  * Report the score for the best model\n",
    "  * Use \"vis_predictions\" function to visualize few examples of test/validation set with the corresponding predictions\n"
   ]
  },
  {
   "cell_type": "code",
   "execution_count": null,
   "metadata": {
    "id": "cac5u-Lk01FL"
   },
   "outputs": [],
   "source": [
    "# Here plot score (accuracy) for each model. You can use \"plot_scores\" function.\n",
    "\n",
    "# Example: plot_scores(parameters, scores, \"title\", \"x_label\", \"y_label\"), \n",
    "\n",
    "# You can see an example in the follow.\n",
    "# Note that the visualizations/plots provided are just simple examples/illustrations. \n",
    "# We encourage more informative and alternate methods to present results."
   ]
  },
  {
   "cell_type": "code",
   "execution_count": 30,
   "metadata": {
    "id": "D68bsuVB01FL"
   },
   "outputs": [
    {
     "data": {
      "image/png": "[encoded data removed]",
      "text/plain": [
       "<Figure size 432x288 with 1 Axes>"
      ]
     },
     "metadata": {
      "needs_background": "light"
     },
     "output_type": "display_data"
    }
   ],
   "source": [
    "# Here report the score for the best model\n",
    "#\n",
    "# ------- Your Code -------\n",
    "plot_scores(list(range(1, 30)), acc_list, 'history', 'k', 'acc')"
   ]
  },
  {
   "cell_type": "code",
   "execution_count": 33,
   "metadata": {
    "id": "9zgw4JUH01FL"
   },
   "outputs": [
    {
     "data": {
      "image/png": "[encoded data removed]",
      "text/plain": [
       "<Figure size 432x288 with 12 Axes>"
      ]
     },
     "metadata": {
      "needs_background": "light"
     },
     "output_type": "display_data"
    }
   ],
   "source": [
    "# Visualize the predictions\n",
    "# Example: vis_predictions(x_eval, y_pred, size_of_data)\n",
    "# ------- Your Code -------\n",
    "x_test_numpy = x_test_tensor.numpy()\n",
    "vis_predictions(x_test_numpy, best_pred, len(x_test_numpy))"
   ]
  },
  {
   "cell_type": "markdown",
   "metadata": {
    "id": "WOT67VC801FL"
   },
   "source": [
    "### 2.2.6: Summary\n",
    "\n",
    "Summarize your findings:\n",
    " * Which hyper-parameters were important and how did they influence your results?   \n",
    " Ans: Not really, I tend to choose smaller k and it worked fine.\n",
    " * What were other design choices you faced?  \n",
    " Ans: Here I use kNN for the algorithm itself is easy to follow, other choice could be K-means.\n",
    " * Any other interesting insights.  \n",
    " Ans: The larger k becomes, the worse the accuracy we get. It is recommended to choose $k=5$ at here."
   ]
  },
  {
   "cell_type": "markdown",
   "metadata": {
    "id": "cgZ547yT01FM"
   },
   "source": [
    "# 2.3: Model [M3] (Neural Networks): *CNN* (25 points)\n",
    "\n"
   ]
  },
  {
   "cell_type": "markdown",
   "metadata": {
    "id": "EFslEvfu01FM"
   },
   "source": [
    "### 2.3.1: Hyper-parameters\n",
    "\n",
    "Define hyper-parameters for your method here"
   ]
  },
  {
   "cell_type": "code",
   "execution_count": 35,
   "metadata": {
    "id": "lzSHcgtr01FM"
   },
   "outputs": [],
   "source": [
    "#\n",
    "#\n",
    "# ------- Your Code -------\n",
    "#\n",
    "#\n",
    "batch_size_train = 64 # Fill in\n",
    "batch_size_test = 16 # Fill in\n",
    "n_epochs = 20 # Fill in\n",
    "# other parameters ...\n",
    "\n",
    "\n",
    "# You don't need the following code, if you can use data from 2.1.1.\n",
    "# You can also use torch built-in functions (torch.utils.data)\n",
    "\n",
    "test_set = 'val'  #  or 'test'\n",
    "# Decide all your hyperparameters based on validation performance\n",
    "# Then, switch to 'test' for final evaluation\n",
    "\n",
    "if test_set == 'val':\n",
    "    train_size = int(len(x_trainval) * 0.7)\n",
    "    train_idxs, val_idxs = slice(train_size), slice(train_size, -1)   # Fill in\n",
    "    x_train, y_train = x_trainval[train_idxs], y_trainval[train_idxs]\n",
    "    x_eval, y_eval = x_trainval[val_idxs], y_trainval[val_idxs]\n",
    "else:\n",
    "    x_train, y_train = x_trainval, y_trainval\n",
    "    x_eval, y_eval = x_test, y_test"
   ]
  },
  {
   "cell_type": "markdown",
   "metadata": {
    "id": "UIkrTWQ001FM"
   },
   "source": [
    "### 2.3.2: Data Preprocessing\n"
   ]
  },
  {
   "cell_type": "code",
   "execution_count": 29,
   "metadata": {
    "id": "p13RLv7u01FM"
   },
   "outputs": [],
   "source": [
    "\n",
    "# ------- Your Code -------\n",
    "# e.g. normalize, flatten input data.\n",
    "\n",
    "x_train_tensor = torch.stack(x_train)\n",
    "y_train_tensor = torch.stack(y_train)\n",
    "train_dataset = TensorDataset(x_train_tensor, y_train_tensor)\n",
    "train_dataloader = DataLoader(train_dataset, batch_size=batch_size_train)\n",
    "\n",
    "x_val_tensor = torch.stack(x_eval)\n",
    "y_val_tensor = torch.stack(y_eval)\n",
    "val_dataset = TensorDataset(x_val_tensor, y_val_tensor)\n",
    "val_dataloader = DataLoader(val_dataset, batch_size=batch_size_test)\n",
    "\n",
    "x_test_tensor = torch.stack(x_test)\n",
    "y_test_tensor = torch.stack(y_test)\n",
    "test_dataset = TensorDataset(x_test_tensor, y_test_tensor)\n",
    "test_dataloader = DataLoader(test_dataset, batch_size=batch_size_test)\n"
   ]
  },
  {
   "cell_type": "markdown",
   "metadata": {
    "id": "Cp0nyS8C01FM"
   },
   "source": [
    "### 2.3.3: Model\n",
    "\n",
    "Define your model here"
   ]
  },
  {
   "cell_type": "code",
   "execution_count": 33,
   "metadata": {
    "id": "T6kHJuH401FM"
   },
   "outputs": [],
   "source": [
    "class Net(nn.Module):\n",
    "    # ------- Your Code -------\n",
    "    def __init__(self):\n",
    "        super(Net, self).__init__()\n",
    "        self.conv = nn.Sequential(\n",
    "            nn.Conv2d(1, 64, kernel_size=3, stride=1, padding=1),\n",
    "            nn.ReLU(),\n",
    "            nn.Conv2d(64, 128, kernel_size=3, stride=1, padding=1),\n",
    "            nn.ReLU(),\n",
    "            nn.MaxPool2d(kernel_size=2, stride=2)\n",
    "        )\n",
    "        self.classifier = nn.Sequential(\n",
    "            nn.Linear(14*14*128, 256),\n",
    "            nn.ReLU(),\n",
    "            nn.Dropout(p=0.2),\n",
    "            nn.Linear(256, 10)\n",
    "        )\n",
    "    def forward(self, inputs):\n",
    "        x = self.conv(inputs)\n",
    "        x = x.view(-1, 14*14*128)\n",
    "        x = self.classifier(x)\n",
    "        return x\n",
    "        "
   ]
  },
  {
   "cell_type": "markdown",
   "metadata": {
    "id": "jhzlip-t01FM"
   },
   "source": [
    "### 2.2.4: Fit Model\n"
   ]
  },
  {
   "cell_type": "code",
   "execution_count": 48,
   "metadata": {
    "collapsed": true,
    "id": "RUWeF4mQ01FM",
    "jupyter": {
     "outputs_hidden": true
    },
    "tags": []
   },
   "outputs": [
    {
     "name": "stderr",
     "output_type": "stream",
     "text": [
      "  5%|▌         | 1/20 [00:08<02:42,  8.56s/it]"
     ]
    },
    {
     "name": "stdout",
     "output_type": "stream",
     "text": [
      "Epoch: 0, runtime: 8.5639s\n",
      "train_loss: 0.5474, train_acc: 0.8416\n",
      "val_loss: 0.1943, val_acc: 0.9477\n",
      "best acc at epoch 0\n"
     ]
    },
    {
     "name": "stderr",
     "output_type": "stream",
     "text": [
      " 10%|█         | 2/20 [00:17<02:34,  8.57s/it]"
     ]
    },
    {
     "name": "stdout",
     "output_type": "stream",
     "text": [
      "Epoch: 1, runtime: 8.5803s\n",
      "train_loss: 0.1529, train_acc: 0.9573\n",
      "val_loss: 0.1130, val_acc: 0.9647\n",
      "best acc at epoch 1\n"
     ]
    },
    {
     "name": "stderr",
     "output_type": "stream",
     "text": [
      " 15%|█▌        | 3/20 [00:38<04:01, 14.20s/it]"
     ]
    },
    {
     "name": "stdout",
     "output_type": "stream",
     "text": [
      "Epoch: 2, runtime: 20.9030s\n",
      "train_loss: 0.0800, train_acc: 0.9753\n",
      "val_loss: 0.0785, val_acc: 0.9767\n",
      "best acc at epoch 2\n"
     ]
    },
    {
     "name": "stderr",
     "output_type": "stream",
     "text": [
      " 20%|██        | 4/20 [00:46<03:12, 12.02s/it]"
     ]
    },
    {
     "name": "stdout",
     "output_type": "stream",
     "text": [
      "Epoch: 3, runtime: 8.6770s\n",
      "train_loss: 0.0642, train_acc: 0.9806\n",
      "val_loss: 0.0699, val_acc: 0.9798\n",
      "best acc at epoch 3\n"
     ]
    },
    {
     "name": "stderr",
     "output_type": "stream",
     "text": [
      " 25%|██▌       | 5/20 [00:55<02:40, 10.71s/it]"
     ]
    },
    {
     "name": "stdout",
     "output_type": "stream",
     "text": [
      "Epoch: 4, runtime: 8.3748s\n",
      "train_loss: 0.0430, train_acc: 0.9876\n",
      "val_loss: 0.0833, val_acc: 0.9797\n",
      "best acc at epoch 3\n"
     ]
    },
    {
     "name": "stderr",
     "output_type": "stream",
     "text": [
      " 30%|███       | 6/20 [01:03<02:18,  9.91s/it]"
     ]
    },
    {
     "name": "stdout",
     "output_type": "stream",
     "text": [
      "Epoch: 5, runtime: 8.3741s\n",
      "train_loss: 0.0452, train_acc: 0.9856\n",
      "val_loss: 0.0920, val_acc: 0.9739\n",
      "best acc at epoch 3\n"
     ]
    },
    {
     "name": "stderr",
     "output_type": "stream",
     "text": [
      " 35%|███▌      | 7/20 [01:11<02:02,  9.41s/it]"
     ]
    },
    {
     "name": "stdout",
     "output_type": "stream",
     "text": [
      "Epoch: 6, runtime: 8.3761s\n",
      "train_loss: 0.0652, train_acc: 0.9832\n",
      "val_loss: 0.1562, val_acc: 0.9654\n",
      "best acc at epoch 3\n"
     ]
    },
    {
     "name": "stderr",
     "output_type": "stream",
     "text": [
      " 40%|████      | 8/20 [01:20<01:49,  9.16s/it]"
     ]
    },
    {
     "name": "stdout",
     "output_type": "stream",
     "text": [
      "Epoch: 7, runtime: 8.6129s\n",
      "train_loss: 0.0500, train_acc: 0.9850\n",
      "val_loss: 0.0751, val_acc: 0.9821\n",
      "best acc at epoch 7\n"
     ]
    },
    {
     "name": "stderr",
     "output_type": "stream",
     "text": [
      " 45%|████▌     | 9/20 [01:28<01:38,  8.91s/it]"
     ]
    },
    {
     "name": "stdout",
     "output_type": "stream",
     "text": [
      "Epoch: 8, runtime: 8.3765s\n",
      "train_loss: 0.0358, train_acc: 0.9900\n",
      "val_loss: 0.0728, val_acc: 0.9820\n",
      "best acc at epoch 7\n"
     ]
    },
    {
     "name": "stderr",
     "output_type": "stream",
     "text": [
      " 50%|█████     | 10/20 [01:37<01:28,  8.81s/it]"
     ]
    },
    {
     "name": "stdout",
     "output_type": "stream",
     "text": [
      "Epoch: 9, runtime: 8.5792s\n",
      "train_loss: 0.0331, train_acc: 0.9915\n",
      "val_loss: 0.0776, val_acc: 0.9829\n",
      "best acc at epoch 9\n"
     ]
    },
    {
     "name": "stderr",
     "output_type": "stream",
     "text": [
      " 55%|█████▌    | 11/20 [01:45<01:18,  8.68s/it]"
     ]
    },
    {
     "name": "stdout",
     "output_type": "stream",
     "text": [
      "Epoch: 10, runtime: 8.3754s\n",
      "train_loss: 0.0296, train_acc: 0.9924\n",
      "val_loss: 0.1002, val_acc: 0.9819\n",
      "best acc at epoch 9\n"
     ]
    },
    {
     "name": "stderr",
     "output_type": "stream",
     "text": [
      " 60%|██████    | 12/20 [01:54<01:08,  8.58s/it]"
     ]
    },
    {
     "name": "stdout",
     "output_type": "stream",
     "text": [
      "Epoch: 11, runtime: 8.3660s\n",
      "train_loss: 0.0277, train_acc: 0.9920\n",
      "val_loss: 0.1185, val_acc: 0.9762\n",
      "best acc at epoch 9\n"
     ]
    },
    {
     "name": "stderr",
     "output_type": "stream",
     "text": [
      " 65%|██████▌   | 13/20 [02:02<00:59,  8.52s/it]"
     ]
    },
    {
     "name": "stdout",
     "output_type": "stream",
     "text": [
      "Epoch: 12, runtime: 8.3809s\n",
      "train_loss: 0.0312, train_acc: 0.9910\n",
      "val_loss: 0.0989, val_acc: 0.9817\n",
      "best acc at epoch 9\n"
     ]
    },
    {
     "name": "stderr",
     "output_type": "stream",
     "text": [
      " 70%|███████   | 14/20 [02:11<00:51,  8.53s/it]"
     ]
    },
    {
     "name": "stdout",
     "output_type": "stream",
     "text": [
      "Epoch: 13, runtime: 8.5609s\n",
      "train_loss: 0.0311, train_acc: 0.9920\n",
      "val_loss: 0.1091, val_acc: 0.9829\n",
      "best acc at epoch 13\n"
     ]
    },
    {
     "name": "stderr",
     "output_type": "stream",
     "text": [
      " 75%|███████▌  | 15/20 [02:19<00:42,  8.54s/it]"
     ]
    },
    {
     "name": "stdout",
     "output_type": "stream",
     "text": [
      "Epoch: 14, runtime: 8.5523s\n",
      "train_loss: 0.0258, train_acc: 0.9934\n",
      "val_loss: 0.0850, val_acc: 0.9832\n",
      "best acc at epoch 14\n"
     ]
    },
    {
     "name": "stderr",
     "output_type": "stream",
     "text": [
      " 80%|████████  | 16/20 [02:28<00:34,  8.55s/it]"
     ]
    },
    {
     "name": "stdout",
     "output_type": "stream",
     "text": [
      "Epoch: 15, runtime: 8.5664s\n",
      "train_loss: 0.0211, train_acc: 0.9940\n",
      "val_loss: 0.0984, val_acc: 0.9840\n",
      "best acc at epoch 15\n"
     ]
    },
    {
     "name": "stderr",
     "output_type": "stream",
     "text": [
      " 85%|████████▌ | 17/20 [02:36<00:25,  8.55s/it]"
     ]
    },
    {
     "name": "stdout",
     "output_type": "stream",
     "text": [
      "Epoch: 16, runtime: 8.5542s\n",
      "train_loss: 0.0190, train_acc: 0.9953\n",
      "val_loss: 0.0874, val_acc: 0.9851\n",
      "best acc at epoch 16\n"
     ]
    },
    {
     "name": "stderr",
     "output_type": "stream",
     "text": [
      " 90%|█████████ | 18/20 [02:50<00:19,  9.99s/it]"
     ]
    },
    {
     "name": "stdout",
     "output_type": "stream",
     "text": [
      "Epoch: 17, runtime: 13.3364s\n",
      "train_loss: 0.0134, train_acc: 0.9961\n",
      "val_loss: 0.0891, val_acc: 0.9851\n",
      "best acc at epoch 17\n"
     ]
    },
    {
     "name": "stderr",
     "output_type": "stream",
     "text": [
      " 95%|█████████▌| 19/20 [02:58<00:09,  9.51s/it]"
     ]
    },
    {
     "name": "stdout",
     "output_type": "stream",
     "text": [
      "Epoch: 18, runtime: 8.3799s\n",
      "train_loss: 0.0218, train_acc: 0.9945\n",
      "val_loss: 0.1175, val_acc: 0.9818\n",
      "best acc at epoch 17\n"
     ]
    },
    {
     "name": "stderr",
     "output_type": "stream",
     "text": [
      "100%|██████████| 20/20 [03:06<00:00,  9.34s/it]"
     ]
    },
    {
     "name": "stdout",
     "output_type": "stream",
     "text": [
      "Epoch: 19, runtime: 8.3539s\n",
      "train_loss: 0.0224, train_acc: 0.9939\n",
      "val_loss: 0.0887, val_acc: 0.9817\n",
      "best acc at epoch 17\n"
     ]
    },
    {
     "name": "stderr",
     "output_type": "stream",
     "text": [
      "\n"
     ]
    }
   ],
   "source": [
    "\n",
    "# ------- Your Code -------\n",
    "# Example: net = Net(), ....\n",
    "device = torch.device('cuda:0' if torch.cuda.is_available() else 'cpu')\n",
    "net = Net().to(device)\n",
    "optimizer = optim.Adam(net.parameters(), lr=1e-4)\n",
    "loss_f = nn.CrossEntropyLoss(reduction='sum').to(device)\n",
    "history = train(net, optimizer, loss_f, device, n_epochs)"
   ]
  },
  {
   "cell_type": "code",
   "execution_count": 47,
   "metadata": {
    "id": "ARJe7dZM01FM"
   },
   "outputs": [],
   "source": [
    "def train(model, optimizer, loss_f, device, epochs):\n",
    "    # ------- Your Code -------\n",
    "    history = []\n",
    "    best_model_dir = './run/best.pth'\n",
    "    best_tp = 0\n",
    "    best_epoch = 0\n",
    "    \n",
    "    for epoch in tqdm(range(epochs)):\n",
    "        train_loss = 0\n",
    "        train_tp = 0\n",
    "        model.train()\n",
    "        optimizer.zero_grad()\n",
    "        \n",
    "        \n",
    "        start = time.time()\n",
    "        for x, y in train_dataloader:\n",
    "            x = x.to(device)\n",
    "            y = y.to(device)\n",
    "            output = model(x)\n",
    "            _, pred = torch.max(output, 1)\n",
    "            loss = loss_f(output, y)\n",
    "            # accumulate train_loss and correct_pred\n",
    "            train_tp += torch.sum(pred == y).item()\n",
    "            train_loss += loss.item()\n",
    "            # get average\n",
    "            avg_train_loss = train_loss / len(train_dataset)\n",
    "            train_acc = train_tp / len(train_dataset)\n",
    "            loss.backward()\n",
    "            optimizer.step()\n",
    "            \n",
    "        val_loss = 0\n",
    "        val_tp = 0\n",
    "        with torch.no_grad():\n",
    "            model.eval()\n",
    "            for x, y in val_dataloader:\n",
    "                x = x.to(device)\n",
    "                y = y.to(device)\n",
    "                output = model(x)\n",
    "                _, pred = torch.max(output, 1)\n",
    "                loss = loss_f(output, y)\n",
    "                # accumulate train_loss and correct_pred\n",
    "                val_tp += torch.sum(pred == y).item()\n",
    "                val_loss += loss.item()\n",
    "                # get average\n",
    "                avg_val_loss = val_loss / len(val_dataset)\n",
    "                val_acc = val_tp / len(val_dataset)\n",
    "                \n",
    "            if val_tp > best_tp:\n",
    "                if not os.path.exists(os.path.dirname(best_model_dir)):\n",
    "                    os.makedirs(os.path.dirname(best_model_dir))\n",
    "                torch.save(model.state_dict(), best_model_dir)\n",
    "                best_tp = val_tp\n",
    "                best_epoch = epoch\n",
    "        end = time.time()\n",
    "        history.append([avg_train_loss, avg_val_loss, train_acc, val_acc])\n",
    "        print('Epoch: {}, runtime: {:.4f}s'.format(epoch, end-start))\n",
    "        print('train_loss: {:.4f}, train_acc: {:.4f}\\n'\n",
    "              'val_loss: {:.4f}, val_acc: {:.4f}'.format(avg_train_loss, train_acc,\\\n",
    "                                                         avg_val_loss, val_acc))\n",
    "        print('best acc at epoch {}'.format(best_epoch))\n",
    "    return history"
   ]
  },
  {
   "cell_type": "code",
   "execution_count": 71,
   "metadata": {
    "id": "qn0MgIyX01FN"
   },
   "outputs": [],
   "source": [
    "def test(model, device):\n",
    "    # ------- Your Code -------\n",
    "    \n",
    "    with torch.no_grad():\n",
    "        tp = 0\n",
    "        y_pred = torch.randn(1, 1)\n",
    "        model.eval()\n",
    "        for x, y in test_dataloader:\n",
    "            x = x.to(device)\n",
    "            y = y.to(device)\n",
    "            output = model(x)\n",
    "            _, pred = torch.max(output, 1)\n",
    "            # get correct_pred\n",
    "            tp += torch.sum(pred == y).item()\n",
    "            y_pred = torch.cat((y_pred, pred.unsqueeze(0).cpu()), 1)\n",
    "        \n",
    "        acc = tp / len(test_dataset)    \n",
    "        print('accurary on test dataset: {}'.format(acc))\n",
    "        \n",
    "        return y_pred[0, 1:]"
   ]
  },
  {
   "cell_type": "code",
   "execution_count": null,
   "metadata": {
    "id": "Rgwj4e0901FN"
   },
   "outputs": [],
   "source": [
    "# Save your model using torch.save()"
   ]
  },
  {
   "cell_type": "markdown",
   "metadata": {
    "id": "aISdfCpb01FN"
   },
   "source": [
    "### 2.2.5: Evaluation\n",
    "\n",
    "Evaluate your model.\n",
    "\n",
    "  * Loss curves: Plot epoch (# passes over training data) and loss\n",
    "  * Accuracy curves: Plot epoch and accuracy over val/test set\n",
    "  * Final numbers: Report final accuracy numbers for your model"
   ]
  },
  {
   "cell_type": "code",
   "execution_count": null,
   "metadata": {
    "id": "urtpEDvx01FN"
   },
   "outputs": [],
   "source": [
    "# Here plot epoch (# passes over training data) and loss\n",
    "#\n",
    "# ------- Your Code -------\n"
   ]
  },
  {
   "cell_type": "code",
   "execution_count": 50,
   "metadata": {
    "id": "bAiMSqqs01FN"
   },
   "outputs": [
    {
     "data": {
      "image/png": "[encoded data removed]",
      "text/plain": [
       "<Figure size 720x576 with 1 Axes>"
      ]
     },
     "metadata": {
      "needs_background": "light"
     },
     "output_type": "display_data"
    },
    {
     "data": {
      "image/png": "[encoded data removed]",
      "text/plain": [
       "<Figure size 720x576 with 1 Axes>"
      ]
     },
     "metadata": {
      "needs_background": "light"
     },
     "output_type": "display_data"
    }
   ],
   "source": [
    "# Here plot epoch and accuracy over val/test set\n",
    "#\n",
    "# ------- Your Code -------\n",
    "plot_history(history)"
   ]
  },
  {
   "cell_type": "code",
   "execution_count": null,
   "metadata": {
    "id": "LTZJPZIP01FN"
   },
   "outputs": [],
   "source": [
    "#\n",
    "#\n",
    "# ------- Your Code -------\n",
    "# Example:\n",
    "# net = Net()\n",
    "# net.load_state_dict(torch.load(\"PATH\"))"
   ]
  },
  {
   "cell_type": "code",
   "execution_count": 76,
   "metadata": {
    "id": "FzQvt7IF01FN"
   },
   "outputs": [
    {
     "name": "stdout",
     "output_type": "stream",
     "text": [
      "accurary on test dataset: 0.987\n"
     ]
    }
   ],
   "source": [
    "# Here report the score for the best model\n",
    "#\n",
    "# ------- Your Code -------\n",
    "net = Net().to(device)\n",
    "net.load_state_dict(torch.load('./run/best.pth'))\n",
    "y_pred = test(net, device)"
   ]
  },
  {
   "cell_type": "code",
   "execution_count": 77,
   "metadata": {
    "id": "RAcVb-iK01FN"
   },
   "outputs": [
    {
     "data": {
      "image/png": "[encoded data removed]",
      "text/plain": [
       "<Figure size 720x576 with 12 Axes>"
      ]
     },
     "metadata": {
      "needs_background": "light"
     },
     "output_type": "display_data"
    }
   ],
   "source": [
    "# Visualize the predictions\n",
    "# Example: vis_predictions(x_eval, y_pred, size_of_data)\n",
    "#\n",
    "#\n",
    "# ------- Your Code -------\n",
    "y_pred_list = y_pred.tolist()\n",
    "x_test_numpy = [x.numpy() for x in x_test]\n",
    "vis_predictions(x_test_numpy, y_pred_list, len(x_test))"
   ]
  },
  {
   "cell_type": "markdown",
   "metadata": {
    "id": "SPMall2f01FN"
   },
   "source": [
    "### 2.3.6: Summary\n",
    "\n",
    "Summarize your findings:\n",
    " * Which hyper-parameters were important and how did they influence your results?  \n",
    " Ans: the classifier after convolution layers, before I forget to add one more linear\n",
    " layer after ReLU, which results in quite poor performance.\n",
    " * What were other design choices you faced?  \n",
    " Ans: ResNet, and many other deep learning model.\n",
    " * Any other interesting insights  \n",
    " Ans: It is sufficient enough to achieve high accuracy using only one convolutional layer for this task, probably because of the simplicity of the input data,\n",
    " since there is only one channel of the input images and it is digit-composed."
   ]
  },
  {
   "cell_type": "markdown",
   "metadata": {
    "id": "Ex3qQp3JolD1"
   },
   "source": [
    "# 3. Summary (20 points)\n",
    "\n",
    "Enter your final summary here.\n",
    "\n",
    "You should now compare performance  on the three models [M1], [M2] and [M3]. Present this in a tabular format and/or using plots.\n",
    "\n",
    "Which model do you recommend to perform digit classification and why?\n",
    "\n",
    "Feel free to discuss other insightful observations."
   ]
  },
  {
   "cell_type": "markdown",
   "metadata": {
    "id": "pa6rPT53LUW8"
   },
   "source": [
    "| _ | SVM | KNN | CNN |\n",
    "| --- | --- | --- | --- |\n",
    "| accuracy | worst 0.86 | not bad 0.92 | best 0.98 | \n",
    "| runtime | faster than CNN | slow due to mat-mul operation | medium |\n",
    "\n",
    "\n",
    "I would recommend CNN, mainly because of the high accuracy the model could provide, and considering runtime,\n",
    "it is acceptable."
   ]
  }
 ],
 "metadata": {
  "colab": {
   "collapsed_sections": [],
   "name": "Task_1.ipynb",
   "provenance": []
  },
  "kernelspec": {
   "display_name": "Python 3 (ipykernel)",
   "language": "python",
   "name": "python3"
  },
  "language_info": {
   "codemirror_mode": {
    "name": "ipython",
    "version": 3
   },
   "file_extension": ".py",
   "mimetype": "text/x-python",
   "name": "python",
   "nbconvert_exporter": "python",
   "pygments_lexer": "ipython3",
   "version": "3.9.7"
  }
 },
 "nbformat": 4,
 "nbformat_minor": 4
}
