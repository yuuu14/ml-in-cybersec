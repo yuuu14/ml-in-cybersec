{
 "cells": [
  {
   "cell_type": "markdown",
   "metadata": {
    "colab_type": "text",
    "id": "4NzyqehHjUlG"
   },
   "source": [
    "# ML in Cybersecurity: Task II\n",
    "\n",
    "## Team\n",
    "  * **Team name**:  team0x\n",
    "  * **Members**:  Yu Xiao (s8xiyuuu@stud.uni-saarland.de)\n",
    "\n",
    "\n",
    "## Logistics\n",
    "  * **Due date**: 25th Nov. 2021, 23:59:59 (email the completed notebook including outputs to mlcysec_ws2022_staff@lists.cispa.saarland)\n",
    "  * Email the completed notebook to mlcysec_ws2022_staff@lists.cispa.saarland \n",
    "  * Complete this in the previously established **teams of 3**\n",
    "  * Feel free to use the course forum to discuss.\n",
    "  \n",
    "  \n",
    "## About this Project\n",
    "In this project, we dive into the vulnerabilities of machine learning models and the difficulties of defending against them. To this end, we ask you to implement an evasion attack (craft adversarial examples) yourselves, and defend your own model.   \n",
    "\n",
    "\n",
    "## A Note on Grading\n",
    "The total number of points in this project is 100. We further provide the number of points achievable with each excercise. You should take particular care to document and visualize your results.\n",
    "\n",
    "Whenever possible, please use tools like tables or figures to compare the different findings\n",
    "\n",
    "\n",
    " \n",
    "## Filling-in the Notebook\n",
    "You'll be submitting this very notebook that is filled-in with (all) your code and analysis. Make sure you submit one that has been previously executed in-order. (So that results/graphs are already visible upon opening it). \n",
    "\n",
    "The notebook you submit **should compile** (or should be self-contained and sufficiently commented). Check tutorial 1 on how to set up the Python3 environment.\n",
    "\n",
    "It is extremely important that you **do not** re-order the existing sections. Apart from that, the code blocks that you need to fill-in are given by:\n",
    "```\n",
    "#\n",
    "#\n",
    "# ------- Your Code -------\n",
    "#\n",
    "#\n",
    "```\n",
    "Feel free to break this into multiple-cells. It's even better if you interleave explanations and code-blocks so that the entire notebook forms a readable \"story\".\n",
    "\n",
    "\n",
    "## Code of Honor\n",
    "We encourage discussing ideas and concepts with other students to help you learn and better understand the course content. However, the work you submit and present **must be original** and demonstrate your effort in solving the presented problems. **We will not tolerate** blatantly using existing solutions (such as from the internet), improper collaboration (e.g., sharing code or experimental data between groups) and plagiarism. If the honor code is not met, no points will be awarded.\n",
    "\n",
    " \n",
    "  ---"
   ]
  },
  {
   "cell_type": "code",
   "execution_count": null,
   "metadata": {
    "colab": {},
    "colab_type": "code",
    "id": "3ewNwfFvbFaR"
   },
   "outputs": [],
   "source": [
    "import time \n",
    " \n",
    "import numpy as np \n",
    "import matplotlib.pyplot as plt \n",
    "\n",
    "import json \n",
    "import time \n",
    "import pickle \n",
    "import sys \n",
    "import csv \n",
    "import os \n",
    "import os.path as osp \n",
    "import shutil \n",
    "\n",
    "import pandas as pd\n",
    "\n",
    "from IPython.display import display, HTML\n",
    " \n",
    "%matplotlib inline \n",
    "plt.rcParams['figure.figsize'] = (10.0, 8.0) # set default size of plots \n",
    "plt.rcParams['image.interpolation'] = 'nearest' \n",
    "plt.rcParams['image.cmap'] = 'gray' \n",
    " \n",
    "# for auto-reloading external modules \n",
    "# see http://stackoverflow.com/questions/1907993/autoreload-of-modules-in-ipython \n",
    "%load_ext autoreload\n",
    "%autoreload 2"
   ]
  },
  {
   "cell_type": "code",
   "execution_count": 2,
   "metadata": {
    "colab": {},
    "colab_type": "code",
    "id": "640GrzbOevr0"
   },
   "outputs": [],
   "source": [
    "# Some suggestions of our libraries that might be helpful for this project\n",
    "from collections import Counter          # an even easier way to count\n",
    "from multiprocessing import Pool         # for multiprocessing\n",
    "from tqdm import tqdm                    # fancy progress bars\n",
    "\n",
    "# Load other libraries here.\n",
    "# Keep it minimal! We should be easily able to reproduce your code.\n",
    "# We only support sklearn and pytorch.\n",
    "import torchvision.datasets as datasets\n",
    "import torchvision.transforms as transforms\n",
    "import torch.utils.data as data\n",
    "\n",
    "# We preload pytorch as an example\n",
    "import torch\n",
    "import torch.nn as nn\n",
    "import torch.nn.functional as F\n",
    "import torch.optim as optim\n",
    "from torch.utils.data import DataLoader, Dataset, TensorDataset"
   ]
  },
  {
   "cell_type": "code",
   "execution_count": 11,
   "metadata": {
    "colab": {},
    "colab_type": "code",
    "id": "GJZPEAWYMhYB"
   },
   "outputs": [],
   "source": [
    "compute_mode = 'gpu'\n",
    "\n",
    "if compute_mode == 'cpu':\n",
    "    device = torch.device('cpu')\n",
    "elif compute_mode == 'gpu':\n",
    "    # If you are using pytorch on the GPU cluster, you have to manually specify which GPU device to use\n",
    "    # It is extremely important that you *do not* spawn multi-GPU jobs.\n",
    "    os.environ[\"CUDA_VISIBLE_DEVICES\"] = '0'    # Set device ID here\n",
    "    device = torch.device('cuda')\n",
    "else:\n",
    "    raise ValueError('Unrecognized compute mode')"
   ]
  },
  {
   "cell_type": "markdown",
   "metadata": {
    "colab_type": "text",
    "id": "nxi-lLD0mKHD"
   },
   "source": [
    "#### Helpers\n",
    "\n",
    "In case you choose to have some methods you plan to reuse during the notebook, define them here. This will avoid clutter and keep rest of the notebook succinct."
   ]
  },
  {
   "cell_type": "code",
   "execution_count": 267,
   "metadata": {
    "colab": {},
    "colab_type": "code",
    "id": "VBbigqdEmKd8"
   },
   "outputs": [],
   "source": [
    "\n",
    "# ------- Your Code -------\n",
    "def fgsm(img, grad, epsl):\n",
    "    sign_grad = grad.sign()\n",
    "    perturbed_img = img + epsl*sign_grad\n",
    "    perturbed_img.requires_grad_()\n",
    "    # into range [0,1]\n",
    "    perturbed_img = torch.clamp(perturbed_img, 0, 1)\n",
    "    return perturbed_img\n",
    "\n",
    "\n",
    "def plot_adv_sample(adv_sample):\n",
    "    images_ori = [None for _ in range(10)]\n",
    "    adv_fgsm = [None for _ in range(10)]\n",
    "    adv_pred = [None for _ in range(10)]\n",
    "    visited = [1 for _ in range(10)]\n",
    "\n",
    "    for ori_img, preturbed_img, label, preturbed_pred in adv_sample:\n",
    "        if sum(visited) == 0: \n",
    "            break\n",
    "        if visited[label] == 0: \n",
    "            continue\n",
    "        images_ori[label] = ori_img\n",
    "        adv_fgsm[label] = preturbed_img\n",
    "        adv_pred[label] = preturbed_pred\n",
    "        visited[label] = 0\n",
    "\n",
    "    # template code (Please feel free to change this)\n",
    "    # (each column corresponds to one attack method)\n",
    "    col_titles = ['ori','ifgsm-0.1'] \n",
    "    nsamples = 10\n",
    "    nrows = nsamples\n",
    "    ncols = len(col_titles)\n",
    "\n",
    "    fig, axes = plt.subplots(nrows,ncols,figsize=(8,12))  # create the figure with subplots\n",
    "    [ax.set_axis_off() for ax in axes.ravel()]  # remove the axis\n",
    "\n",
    "\n",
    "    for i in range(nsamples):\n",
    "        axes[i, 0].imshow(images_ori[i])\n",
    "        axes[i, 0].set_title(f'ori_pred:{i}',\n",
    "                                fontdict={'fontsize':14, 'color':'b'})\n",
    "        axes[i, 1].imshow(adv_fgsm[i])\n",
    "        axes[i, 1].set_title(f'adv_pred:{adv_pred[i]}',\n",
    "                                fontdict={'fontsize':14, 'color':'b'})\n",
    "\n",
    "    fig.tight_layout()  "
   ]
  },
  {
   "cell_type": "markdown",
   "metadata": {
    "colab_type": "text",
    "id": "n1pcmKkyjT7y"
   },
   "source": [
    "# 1. Attacking an ML-model (30 points) \n",
    "\n",
    "In this section, we implement an attack ourselves. First, however, you need a model you can attack. Feel free to choose the DNN/ConvNN from task 1.\n",
    "\n"
   ]
  },
  {
   "cell_type": "markdown",
   "metadata": {
    "colab_type": "text",
    "id": "QaJv_d_Dp7OM"
   },
   "source": [
    "## 1.1: Setting up the model and data (4 Points)\n",
    "\n",
    "Load the MNIST data, as done in task 1. \n",
    "\n",
    "Re-use the model from task 1 here and train it until it achieves reasonable accuracy (>92%).\n",
    "\n",
    "If you have the saved checkpoint from task 1, you can load it directly. But please compute here the test accuracy using this checkpoint.  \n",
    "\n",
    "**Hint:** In order to save computation time for the rest of exercise, you might consider having a relatively small model here.\n",
    "\n",
    "**Hint**: You might want to save the trained model to save time later."
   ]
  },
  {
   "cell_type": "code",
   "execution_count": 14,
   "metadata": {
    "colab": {},
    "colab_type": "code",
    "id": "c688qdGtO1v-"
   },
   "outputs": [],
   "source": [
    "#\n",
    "#\n",
    "# ------- Your Code -------\n",
    "# Feel free to change this part depending on whether you would train a model or directly load a checkpoint \n",
    "#\n",
    "#\n",
    "\n",
    "# (1)load data \n",
    "BATCH_SIZE = 1\n",
    "transform = transforms.Compose([\n",
    "    transforms.ToTensor(),\n",
    "    transforms.Normalize((.5, ), (.5, ))  \n",
    "])\n",
    "# load training and test set\n",
    "mnist_trainset = datasets.MNIST(root='./data', train=True, download=False, transform=transform)\n",
    "mnist_testset = datasets.MNIST(root='./data', train=False, download=False, transform=transform)\n",
    "\n",
    "train_loader = DataLoader(mnist_trainset, batch_size=BATCH_SIZE, shuffle=True)\n",
    "test_loader = DataLoader(mnist_testset, batch_size=BATCH_SIZE, shuffle=True)\n"
   ]
  },
  {
   "cell_type": "code",
   "execution_count": 5,
   "metadata": {},
   "outputs": [],
   "source": [
    "# (2)define model\n",
    "# CNN from task01\n",
    "class Net(nn.Module):\n",
    "    def __init__(self):\n",
    "        super(Net, self).__init__()\n",
    "        self.conv = nn.Sequential(\n",
    "            nn.Conv2d(1, 64, kernel_size=3, stride=1, padding=1),\n",
    "            nn.ReLU(),\n",
    "            nn.Conv2d(64, 128, kernel_size=3, stride=1, padding=1),\n",
    "            nn.ReLU(),\n",
    "            nn.MaxPool2d(kernel_size=2, stride=2)\n",
    "        )\n",
    "        self.classifier = nn.Sequential(\n",
    "            nn.Linear(14*14*128, 256),\n",
    "            nn.ReLU(),\n",
    "            nn.Dropout(p=0.2),\n",
    "            nn.Linear(256, 10)\n",
    "        )\n",
    "    def forward(self, inputs):\n",
    "        x = self.conv(inputs)\n",
    "        x = x.view(-1, 14*14*128)\n",
    "        x = self.classifier(x)\n",
    "        return x"
   ]
  },
  {
   "cell_type": "code",
   "execution_count": 9,
   "metadata": {},
   "outputs": [],
   "source": [
    "def test(model, device, test_loader):\n",
    "    \n",
    "    with torch.no_grad():\n",
    "        tp = 0\n",
    "        y_pred = torch.randn(1, 1)\n",
    "        model.eval()\n",
    "        for x, y in test_loader:\n",
    "            x = x.to(device)\n",
    "            y = y.to(device)\n",
    "            output = model(x)\n",
    "            _, pred = torch.max(output, 1)\n",
    "            # get correct_pred\n",
    "            tp += torch.sum(pred == y).item()\n",
    "            y_pred = torch.cat((y_pred, pred.unsqueeze(0).cpu()), 1)\n",
    "        \n",
    "        acc = tp / len(test_loader) / BATCH_SIZE   \n",
    "        print('accurary on test dataset: {}'.format(acc))\n",
    "        \n",
    "        return y_pred[0, 1:]"
   ]
  },
  {
   "cell_type": "code",
   "execution_count": 15,
   "metadata": {},
   "outputs": [
    {
     "name": "stdout",
     "output_type": "stream",
     "text": [
      "accurary on test dataset: 0.987\n"
     ]
    }
   ],
   "source": [
    "# (3)define loss, optimizer \n",
    "# (4)train (You can re-use the trained model from project1)\n",
    "device = torch.device('cuda:0' if torch.cuda.is_available() else 'cpu')\n",
    "pretrained_model = './run/best.pth'\n",
    "model = Net().to(device)\n",
    "model.load_state_dict(torch.load(pretrained_model, map_location=device))\n",
    "model.eval()\n",
    "\n",
    "# (5)evaluate\n",
    "pred = test(model, device)\n",
    "# print('Epoch %d, Train acc: %f, Test acc: %f' % (epoch, train_acc, test_acc))"
   ]
  },
  {
   "cell_type": "markdown",
   "metadata": {
    "colab_type": "text",
    "id": "DEQrdyLHsUIu"
   },
   "source": [
    "## 1.2: Implementing the FGSM attack (7 Points)\n",
    "\n",
    "We now want to attack the model trained in the previous step. We will start with the FGSM attack as a simple example. \n",
    "\n",
    "Please implement the FGSM attack mentioned in the lecture. \n",
    "\n",
    "More details: https://arxiv.org/pdf/1412.6572.pdf\n"
   ]
  },
  {
   "cell_type": "code",
   "execution_count": 31,
   "metadata": {
    "colab": {},
    "colab_type": "code",
    "id": "gcVZnUNbRKOz"
   },
   "outputs": [],
   "source": [
    "\n",
    "# ------- Your Code -------\n",
    "def test_attack(model, device, epsl):\n",
    "    cor = 0\n",
    "    adv_sample = []\n",
    "    for image, label in test_loader:\n",
    "        image, label = image.to(device), label.to(device)\n",
    "        image.requires_grad = True\n",
    "        \n",
    "        output = model(image)\n",
    "        pred = torch.max(output, 1)[1]\n",
    "        \n",
    "        if pred.item() != label.item():\n",
    "            continue\n",
    "        loss = F.nll_loss(output, label)\n",
    "        \n",
    "        model.zero_grad()\n",
    "        loss.backward()\n",
    "        \n",
    "        grad = image.grad.data\n",
    "        # get perturbed image\n",
    "        perturbed_img = fgsm(image, grad, epsl)\n",
    "        output = model(perturbed_img)\n",
    "        \n",
    "        perturbed_pred = torch.max(output, 1)[1]\n",
    "        \n",
    "        if perturbed_pred.item() == label.item():\n",
    "            cor += 1\n",
    "        else:\n",
    "            img = image.squeeze().detach().cpu().numpy()\n",
    "            adv_img = perturbed_img.squeeze().detach().cpu().numpy()\n",
    "            adv_sample.append((img, adv_img, pred, perturbed_pred))\n",
    "    acc = cor / len(test_loader)\n",
    "    print(f'epsilon: {epsl}, acc: {acc}')\n",
    "    return adv_sample"
   ]
  },
  {
   "cell_type": "markdown",
   "metadata": {
    "colab_type": "text",
    "id": "RNpI3oUoO1wE"
   },
   "source": [
    "## 1.3: Adversarial sample set (7 Points)\n",
    "\n",
    "* Please generate a dataset containing at least 1,000 adversarial examples using FGSM.\n",
    "\n",
    "* Please vary the perturbation budget (3 variants) and generate 1,000 adversarial examples for each. \n",
    "    * **Hint**: you can choose epsilons within, e.g., = [.05, .1, .15, .2, .25, .3],  using MNIST pixel values in the interval       [0, 1]\n",
    "\n",
    "* Compute the accuracy of each attack set. "
   ]
  },
  {
   "cell_type": "code",
   "execution_count": 35,
   "metadata": {
    "colab": {},
    "colab_type": "code",
    "id": "EvYpo9p2O1wF"
   },
   "outputs": [
    {
     "name": "stdout",
     "output_type": "stream",
     "text": [
      "epsilon: 0.1, acc: 0.8545\n",
      "runtime: 28.7575s, size of sample: 1325\n",
      "epsilon: 0.2, acc: 0.7085\n",
      "runtime: 28.8030s, size of sample: 2785\n",
      "epsilon: 0.3, acc: 0.5259\n",
      "runtime: 28.7446s, size of sample: 4611\n"
     ]
    }
   ],
   "source": [
    "\n",
    "# ------- Your Code -------\n",
    "adv_samples = []\n",
    "epsilons = [0.1, 0.2, 0.3]\n",
    "for epsl in epsilons:\n",
    "    start = time.time()\n",
    "    adv_sample = test_attack(model, device, epsl)\n",
    "    end = time.time()\n",
    "    print(f'runtime: {end-start:.4f}s, size of sample: {len(adv_sample)}')\n",
    "    adv_samples.append(adv_sample)\n"
   ]
  },
  {
   "cell_type": "markdown",
   "metadata": {
    "colab_type": "text",
    "id": "Ex3qQp3JolD1"
   },
   "source": [
    "## 1.4: Visualizing the results (7 Points)\n",
    "\n",
    "* Please chose one sample for each class (for example the first when iterating the test data) and plot the (ten) adversarial examples as well as the predicted label (before and after the attack)\n",
    "\n",
    "* Please repeat the visualization for the three sets you have created "
   ]
  },
  {
   "cell_type": "code",
   "execution_count": 62,
   "metadata": {
    "colab": {},
    "colab_type": "code",
    "id": "eGkp0B0PO1wJ"
   },
   "outputs": [
    {
     "data": {
      "image/png": "[encoded data removed]",
      "text/plain": [
       "<Figure size 576x864 with 60 Axes>"
      ]
     },
     "metadata": {
      "needs_background": "light"
     },
     "output_type": "display_data"
    }
   ],
   "source": [
    "\n",
    "# ------- Your Code -------\n",
    "\n",
    "images_ori = [[None for _ in range(10)] for _ in range(3)]\n",
    "adv_fgsm = [[None for _ in range(10)] for _ in range(3)]\n",
    "adv_pred = [[None for _ in range(10)] for _ in range(3)]\n",
    "for i, adv_sample in enumerate(adv_samples):\n",
    "    visited = [1 for _ in range(10)]\n",
    "    for ori_img, preturbed_img, pred, preturbed_pred in adv_sample:\n",
    "        if sum(visited) == 0: \n",
    "            break\n",
    "        if visited[pred] == 0: \n",
    "            continue\n",
    "        images_ori[i][pred] = ori_img\n",
    "        adv_fgsm[i][pred] = preturbed_img\n",
    "        adv_pred[i][pred] = preturbed_pred.item()\n",
    "        visited[pred] = 0\n",
    "\n",
    "# template code (Please feel free to change this)\n",
    "# (each column corresponds to one attack method)\n",
    "col_titles = ['ori','fgsm-0.1', 'ori', 'fgsm-0.2', 'ori', 'fgsm-0.3'] \n",
    "nsamples = 10\n",
    "nrows = nsamples\n",
    "ncols = len(col_titles)\n",
    "\n",
    "fig, axes = plt.subplots(nrows,ncols,figsize=(8,12))  # create the figure with subplots\n",
    "[ax.set_axis_off() for ax in axes.ravel()]  # remove the axis\n",
    "\n",
    "\n",
    "for i in range(nsamples):\n",
    "    for j in range(ncols // 2):\n",
    "        axes[i, 2*j].imshow(images_ori[j][i])\n",
    "        axes[i, 2*j].set_title(f'ori_pred:{i}',\n",
    "                                fontdict={'fontsize':14, 'color':'b'})\n",
    "        axes[i, 2*j+1].imshow(adv_fgsm[j][i])\n",
    "        axes[i, 2*j+1].set_title(f'adv_pred:{adv_pred[j][i]}',\n",
    "                                fontdict={'fontsize':14, 'color':'b'})\n",
    "for i, epsl in enumerate(epsilons):\n",
    "    plt.figtext((0.5+i*2)/6, 1, f'epsl={epsl}',\n",
    "               fontdict={'fontsize':20, 'color':'b'})\n",
    "\n",
    "fig.tight_layout()                  "
   ]
  },
  {
   "cell_type": "markdown",
   "metadata": {},
   "source": [
    "## 1.5: Analyzing the results (5 Points)\n",
    "\n",
    "Please write a brief summary of your findings.  \n",
    "\n",
    "* Does the attack always succeed (the model makes wrong prediction on the adversarial sample)? What is the relationship between the attack success rate and the perturbation budget?\n",
    "* How about the computation cost of the attack? (you can report the time in second) \n",
    "* Does the attack require white-box access to the model?\n",
    "* Feel free to report your results via tables or figures, and mention any other interesting observations \n",
    "\n"
   ]
  },
  {
   "cell_type": "markdown",
   "metadata": {},
   "source": [
    "**Answers**\n",
    "- Not always, since the accuracy on adversarial sample is above 0. The larger the pertubation budget becomes, the higher the attack sucess rate could get.\n",
    "- The model was run on GPU with batch size 1 and for each epsilon it costs about 28s.\n",
    "- Yes. The attack needs the gradient after backpropagation.\n",
    "\n"
   ]
  },
  {
   "cell_type": "markdown",
   "metadata": {
    "colab_type": "text",
    "id": "KJUmrv5Bymij"
   },
   "source": [
    "# 2. Defending an ML model (35 points) \n",
    "\n",
    "So far, we have focused on attacking an ML model. In this section, we want you to defend your model. \n"
   ]
  },
  {
   "cell_type": "markdown",
   "metadata": {
    "colab_type": "text",
    "id": "0gHUFK6Mymik"
   },
   "source": [
    "## 2.1: Implementing the adversarial training defense (20 Points)\n",
    "\n",
    "* We would like to ask you to implement the adversarial training defense (https://arxiv.org/pdf/1412.6572.pdf) mentioned in the lecture. \n",
    "\n",
    "* You can use the **FGSM adversarial training** method (i.e., train on FGSM examples). \n",
    "\n",
    "* You can also check the adversarial training implementation in other papers, e.g., http://proceedings.mlr.press/v97/pang19a/pang19a.pdf \n",
    "\n",
    "* Choose a certain **maximum perturbation budget** during training that is in the middle of the range you have experimented with before. \n",
    "\n",
    "* We do not require the defense to work perfectly - but what we want you to understand is why it works or why it does not work.\n",
    "\n",
    "**Hint:** You can save the checkpoint of the defended model as we would need it to for the third part of this exercise.\n"
   ]
  },
  {
   "cell_type": "code",
   "execution_count": 68,
   "metadata": {
    "colab": {},
    "colab_type": "code",
    "id": "DD0UalSeymim"
   },
   "outputs": [],
   "source": [
    "\n",
    "# ------- Your Code -------\n",
    "# teacher model f  (original model) (x, y) --> softmax with temp T=100 : exp(o/T) / sum(oi/T)\n",
    "# student model f' (distlled model) (x, f(x)) with T=100\n",
    "class DistilledNet(nn.Module):\n",
    "    def __init__(self):\n",
    "        super(DistilledNet, self).__init__()\n",
    "        self.conv = nn.Sequential(\n",
    "            nn.Conv2d(1, 64, kernel_size=3, stride=1, padding=1),\n",
    "            nn.ReLU(),\n",
    "            nn.MaxPool2d(kernel_size=2, stride=2)\n",
    "        )\n",
    "        self.classifier = nn.Sequential(\n",
    "            nn.Linear(14*14*64, 128),\n",
    "            nn.ReLU(),\n",
    "            nn.Dropout(p=0.2),\n",
    "            nn.Linear(128, 10)\n",
    "        )\n",
    "    def forward(self, inputs):\n",
    "        x = self.conv(inputs)\n",
    "        x = x.view(-1, 14*14*64)\n",
    "        x = self.classifier(x)\n",
    "        return x\n"
   ]
  },
  {
   "cell_type": "code",
   "execution_count": 83,
   "metadata": {},
   "outputs": [],
   "source": [
    "# data preparation\n",
    "def get_preturbed_set(model, dataloader, epsl):\n",
    "    x, y = [], []\n",
    "    for image, label in dataloader:\n",
    "        label = torch.tensor(label)\n",
    "        image, label = image.to(device), label.to(device)\n",
    "        image.requires_grad = True\n",
    "\n",
    "        output = model(image)\n",
    "        pred = torch.max(output, dim=1)[1]\n",
    "        loss = F.nll_loss(output, label)\n",
    "        model.zero_grad()\n",
    "        loss.backward()\n",
    "\n",
    "        grad = image.grad.data\n",
    "        perturbed_img = fgsm(image, grad, epsl)\n",
    "        x.append(perturbed_img.detach().cpu())\n",
    "        y.append(label.detach().cpu())\n",
    "    return x, y\n",
    "\n",
    "def get_loader(x, y, batch_size):\n",
    "    x, y = torch.stack(x), torch.stack(y)\n",
    "    dataset = TensorDataset(x, y)\n",
    "    dataloader = DataLoader(dataset, batch_size=batch_size)\n",
    "    return dataloader"
   ]
  },
  {
   "cell_type": "code",
   "execution_count": null,
   "metadata": {},
   "outputs": [],
   "source": [
    "batch_size = 64\n",
    "\n",
    "# train and eval set - choose middle epsilon\n",
    "x_trainval, y_trainval = get_preturbed_set(model, train_loader, 0.2)\n",
    "train_size = int(0.7 * len(x_trainval))\n",
    "x_train, y_train = x_trainval[:train_size], y_trainval[:train_size]\n",
    "x_val, y_val = x_trainval[train_size:], y_trainval[train_size:]\n",
    "\n",
    "x_train = [x.squeeze(0) for x in x_train]\n",
    "x_val = [x.squeeze(0) for x in x_val]\n",
    "train_loader_dist = get_loader(x_train, y_train, batch_size)\n",
    "val_loader_dist = get_loader(x_val, y_val, batch_size)\n",
    "\n",
    "# test set list with diffferent epsilons\n",
    "test_loader_list = []\n",
    "\n",
    "for epsl in epsilons:\n",
    "    x_test, y_test = get_preturbed_set(model, test_loader, epsl)\n",
    "    x_test = [x.squeeze(0) for x in x_test]\n",
    "    dataloader = get_loader(x_test, y_test, batch_size)\n",
    "    test_loader_list.append(dataloader)\n"
   ]
  },
  {
   "cell_type": "code",
   "execution_count": 220,
   "metadata": {},
   "outputs": [],
   "source": [
    "train_loader_ori = DataLoader(mnist_trainset, batch_size=batch_size, shuffle=True)\n",
    "test_loader_ori = DataLoader(mnist_testset, batch_size=batch_size, shuffle=True)"
   ]
  },
  {
   "cell_type": "code",
   "execution_count": 146,
   "metadata": {},
   "outputs": [
    {
     "name": "stdout",
     "output_type": "stream",
     "text": [
      "657\n",
      "282\n",
      "157\n"
     ]
    }
   ],
   "source": [
    "print(len(train_loader_dist))\n",
    "print(len(val_loader_dist))\n",
    "print(len(test_loader_list[0]))"
   ]
  },
  {
   "cell_type": "code",
   "execution_count": 255,
   "metadata": {},
   "outputs": [],
   "source": [
    "def train(adv_model, train_loader, val_loader, device, \n",
    "          loss_f, optimizer, epochs):\n",
    "    best_cor = 0\n",
    "    best_epoch = 0\n",
    "    best_model_dir = './run/best_adv.pth'\n",
    "    for epoch in tqdm(range(epochs)):\n",
    "        adv_model.train()\n",
    "        optimizer.zero_grad()\n",
    "        \n",
    "        cor = 0\n",
    "        start = time.time()\n",
    "        for inputs, labels in train_loader:\n",
    "            labels = labels.squeeze()\n",
    "            inputs, labels = inputs.to(device), labels.to(device)\n",
    "            inputs.requires_grad_()\n",
    "            \n",
    "            outputs = adv_model(inputs)\n",
    "            \n",
    "            c, epsl = 0.4, 0.2 # torch.randint(500, (1, )).item() * 1e-3\n",
    "            loss = c * loss_f(outputs, labels)\n",
    "            loss.backward(retain_graph=True)\n",
    "            \n",
    "            grad = inputs.grad.data\n",
    "            perturbed = fgsm(inputs, grad, epsl)\n",
    "            prb_outputs = adv_model(perturbed)\n",
    "            loss += (1-c) * loss_f(prb_outputs, labels)\n",
    "\n",
    "            loss.backward()\n",
    "            optimizer.step()\n",
    "        \n",
    "        with torch.no_grad():\n",
    "            adv_model.eval()\n",
    "            for inputs, labels in val_loader:\n",
    "                inputs, labels = inputs.to(device), labels.to(device)\n",
    "                outputs = adv_model(inputs)\n",
    "                preds = torch.max(outputs, dim=1)[1]\n",
    "                cor += torch.sum(preds == labels.squeeze()).item()\n",
    "            if cor > best_cor:\n",
    "                model_dir = os.path.dirname(best_model_dir)\n",
    "                if not os.path.exists(model_dir):\n",
    "                    os.makedirs(model_dir)\n",
    "                torch.save(adv_model.state_dict(), best_model_dir)\n",
    "                best_cor = cor\n",
    "                best_epoch = epoch\n",
    "        end = time.time()\n",
    "        acc = cor / len(val_loader) / batch_size\n",
    "        best_acc = best_cor / len(val_loader) / batch_size\n",
    "        print(f'epoch: {epoch}, runtime: {end-start:.4f}s')\n",
    "        print(f'loss on train set: {loss.item():.4f}')\n",
    "        print(f'acc on eval set: {acc:.4f}')\n",
    "        print(f'best epoch: {best_epoch} with acc: {best_acc:.4f}')\n",
    "    "
   ]
  },
  {
   "cell_type": "code",
   "execution_count": null,
   "metadata": {},
   "outputs": [],
   "source": [
    "# training\n",
    "# model.load_state_dict(torch.load(pretrained_model, map_location=device))\n",
    "adv_model = Net().to(device)\n",
    "loss_f = nn.CrossEntropyLoss(reduce='sum').to(device)\n",
    "optimizer = optim.Adam(adv_model.parameters(), lr=1e-4)"
   ]
  },
  {
   "cell_type": "code",
   "execution_count": 256,
   "metadata": {},
   "outputs": [
    {
     "name": "stderr",
     "output_type": "stream",
     "text": [
      " 10%|█         | 1/10 [00:26<03:54, 26.10s/it]"
     ]
    },
    {
     "name": "stdout",
     "output_type": "stream",
     "text": [
      "epoch: 0, runtime: 26.0967s\n",
      "loss on train set: 0.0573\n",
      "acc on eval set: 0.9827\n",
      "best epoch: 0 with acc: 0.9827\n"
     ]
    },
    {
     "name": "stderr",
     "output_type": "stream",
     "text": [
      " 20%|██        | 2/10 [00:51<03:26, 25.85s/it]"
     ]
    },
    {
     "name": "stdout",
     "output_type": "stream",
     "text": [
      "epoch: 1, runtime: 25.6780s\n",
      "loss on train set: 0.0707\n",
      "acc on eval set: 0.9811\n",
      "best epoch: 0 with acc: 0.9827\n"
     ]
    },
    {
     "name": "stderr",
     "output_type": "stream",
     "text": [
      " 30%|███       | 3/10 [01:17<03:01, 25.87s/it]"
     ]
    },
    {
     "name": "stdout",
     "output_type": "stream",
     "text": [
      "epoch: 2, runtime: 25.9000s\n",
      "loss on train set: 0.0055\n",
      "acc on eval set: 0.9821\n",
      "best epoch: 0 with acc: 0.9827\n"
     ]
    },
    {
     "name": "stderr",
     "output_type": "stream",
     "text": [
      " 40%|████      | 4/10 [01:57<03:07, 31.30s/it]"
     ]
    },
    {
     "name": "stdout",
     "output_type": "stream",
     "text": [
      "epoch: 3, runtime: 39.6070s\n",
      "loss on train set: 0.0588\n",
      "acc on eval set: 0.9833\n",
      "best epoch: 3 with acc: 0.9833\n"
     ]
    },
    {
     "name": "stderr",
     "output_type": "stream",
     "text": [
      " 50%|█████     | 5/10 [02:22<02:26, 29.23s/it]"
     ]
    },
    {
     "name": "stdout",
     "output_type": "stream",
     "text": [
      "epoch: 4, runtime: 25.5513s\n",
      "loss on train set: 0.0053\n",
      "acc on eval set: 0.9825\n",
      "best epoch: 3 with acc: 0.9833\n"
     ]
    },
    {
     "name": "stderr",
     "output_type": "stream",
     "text": [
      " 60%|██████    | 6/10 [02:48<01:51, 27.98s/it]"
     ]
    },
    {
     "name": "stdout",
     "output_type": "stream",
     "text": [
      "epoch: 5, runtime: 25.5698s\n",
      "loss on train set: 0.0055\n",
      "acc on eval set: 0.9830\n",
      "best epoch: 3 with acc: 0.9833\n"
     ]
    },
    {
     "name": "stderr",
     "output_type": "stream",
     "text": [
      " 70%|███████   | 7/10 [03:14<01:21, 27.20s/it]"
     ]
    },
    {
     "name": "stdout",
     "output_type": "stream",
     "text": [
      "epoch: 6, runtime: 25.5926s\n",
      "loss on train set: 0.0640\n",
      "acc on eval set: 0.9795\n",
      "best epoch: 3 with acc: 0.9833\n"
     ]
    },
    {
     "name": "stderr",
     "output_type": "stream",
     "text": [
      " 80%|████████  | 8/10 [03:39<00:53, 26.70s/it]"
     ]
    },
    {
     "name": "stdout",
     "output_type": "stream",
     "text": [
      "epoch: 7, runtime: 25.6363s\n",
      "loss on train set: 0.0787\n",
      "acc on eval set: 0.9829\n",
      "best epoch: 3 with acc: 0.9833\n"
     ]
    },
    {
     "name": "stderr",
     "output_type": "stream",
     "text": [
      " 90%|█████████ | 9/10 [04:05<00:26, 26.58s/it]"
     ]
    },
    {
     "name": "stdout",
     "output_type": "stream",
     "text": [
      "epoch: 8, runtime: 26.3115s\n",
      "loss on train set: 0.0022\n",
      "acc on eval set: 0.9842\n",
      "best epoch: 8 with acc: 0.9842\n"
     ]
    },
    {
     "name": "stderr",
     "output_type": "stream",
     "text": [
      "100%|██████████| 10/10 [04:31<00:00, 27.15s/it]"
     ]
    },
    {
     "name": "stdout",
     "output_type": "stream",
     "text": [
      "epoch: 9, runtime: 25.5785s\n",
      "loss on train set: 0.1655\n",
      "acc on eval set: 0.9839\n",
      "best epoch: 8 with acc: 0.9842\n"
     ]
    },
    {
     "name": "stderr",
     "output_type": "stream",
     "text": [
      "\n"
     ]
    }
   ],
   "source": [
    "train(adv_model, train_loader_ori, test_loader_ori, device, loss_f, optimizer, 10)"
   ]
  },
  {
   "cell_type": "markdown",
   "metadata": {},
   "source": [
    "## 2.2: Evaluation (10 Points)\n",
    "\n",
    "* Craft adversarial examples using the **defended** model. This entails at least 1,000 examples crafted via FGSM. \n",
    "    * Create one set using a budget that is **less than (within)** the one used in training.\n",
    "    * Create another set using a budget that is **higher than** the one used in training. \n",
    "    * You can use two values of epsilons from question 1.3 \n",
    "    \n",
    "* Evaluate the **defended** model on these two adversarial examples sets. \n"
   ]
  },
  {
   "cell_type": "code",
   "execution_count": 215,
   "metadata": {},
   "outputs": [],
   "source": [
    "def test_dist(model, test_loader, device, batch_size):\n",
    "    with torch.no_grad():\n",
    "        cor = 0\n",
    "        model.eval()\n",
    "        for images, labels in tqdm(test_loader):\n",
    "            labels = labels.squeeze()\n",
    "            images, labels = images.to(device), labels.to(device)\n",
    "            outputs = model(images)\n",
    "            preds = torch.max(outputs, dim=1)[1]\n",
    "            cor += torch.sum(preds == labels).item()\n",
    "        acc = cor / len(test_loader) / batch_size\n",
    "    return acc"
   ]
  },
  {
   "cell_type": "code",
   "execution_count": 257,
   "metadata": {},
   "outputs": [
    {
     "name": "stderr",
     "output_type": "stream",
     "text": [
      "100%|██████████| 157/157 [00:00<00:00, 302.72it/s]\n",
      "100%|██████████| 157/157 [00:00<00:00, 661.20it/s]\n",
      "100%|██████████| 157/157 [00:00<00:00, 304.74it/s]\n",
      "100%|██████████| 157/157 [00:00<00:00, 634.43it/s]"
     ]
    },
    {
     "name": "stdout",
     "output_type": "stream",
     "text": [
      "Accuracy on the lower-budget adversarial samples (FGSM) 0.85\n",
      "Accuracy on the lower-budget adversarial samples (FGSM) after defense 0.97\n",
      "Accuracy on the higher-budget adversarial samples (FGSM) 0.52\n",
      "Accuracy on the higher-budget adversarial samples (FGSM) after defense 0.94\n"
     ]
    },
    {
     "name": "stderr",
     "output_type": "stream",
     "text": [
      "\n"
     ]
    }
   ],
   "source": [
    "\n",
    "# ------- Your Code -------\n",
    "model.load_state_dict(torch.load(pretrained_model, map_location=device))\n",
    "acc_FGSM1 = test_dist(model, test_loader_list[0], device, batch_size)\n",
    "acc_FGSM_defend1 = test_dist(distilled_model, test_loader_list[0], device, batch_size)\n",
    "acc_FGSM2 = test_dist(model, test_loader_list[2], device, batch_size)\n",
    "acc_FGSM_defend2 = test_dist(distilled_model, test_loader_list[2], device, batch_size)\n",
    "\n",
    "print('Accuracy on the lower-budget adversarial samples (FGSM) %.2f'%acc_FGSM1)\n",
    "print('Accuracy on the lower-budget adversarial samples (FGSM) after defense %.2f'%acc_FGSM_defend1)\n",
    "print('Accuracy on the higher-budget adversarial samples (FGSM) %.2f'%acc_FGSM2)\n",
    "print('Accuracy on the higher-budget adversarial samples (FGSM) after defense %.2f'%acc_FGSM_defend2)"
   ]
  },
  {
   "cell_type": "markdown",
   "metadata": {},
   "source": [
    "## 2.3 Discussion (5 points)\n",
    "\n",
    "* How successful was the defense against the attack compared to the undefended model? How do you interpret the difference?\n",
    "* How did the two sets differ?"
   ]
  },
  {
   "cell_type": "markdown",
   "metadata": {},
   "source": [
    "**Answer**\n",
    "- With different epsilons the accuracy on adversarial samples after defense maintains 0.9 while it drops drastically with the previous undefended model. The distilled model learns both from relation bewteen output logits and class as well as the relation bewteen different classes.\n",
    "- One set is generated with lower epsilon than the trainset, the other one is higher."
   ]
  },
  {
   "cell_type": "markdown",
   "metadata": {},
   "source": [
    "# 3: I-FGSM attack (35 points) \n",
    "\n",
    "* FGSM is one of the simplest and earliest attacks. Since then, many more advanced attacks have been proposed. \n",
    "* One of them is the Iterative-FGSM (https://arxiv.org/pdf/1607.02533.pdf), where the attack is repeated multiple times.\n",
    "* In this part, we ask you to please implement the iterative FGSM attack. \n",
    "\n"
   ]
  },
  {
   "cell_type": "markdown",
   "metadata": {},
   "source": [
    "## 3.1: Implementing the I-FGSM attack (10 Points)\n",
    "\n",
    "**Hints**: \n",
    "\n",
    "* Your code should have an attack loop. At each step, the FGSM attack that you have implemented before is computed using a small step.\n",
    "* After each step, you should perform a per-pixel clipping to make sure the image is in the allowed range, and that the perturbation is within budget.\n"
   ]
  },
  {
   "cell_type": "code",
   "execution_count": 260,
   "metadata": {},
   "outputs": [
    {
     "data": {
      "text/plain": [
       "\u001b[0;31mSignature:\u001b[0m \u001b[0mfgsm\u001b[0m\u001b[0;34m(\u001b[0m\u001b[0mimg\u001b[0m\u001b[0;34m,\u001b[0m \u001b[0mgrad\u001b[0m\u001b[0;34m,\u001b[0m \u001b[0mepsl\u001b[0m\u001b[0;34m)\u001b[0m\u001b[0;34m\u001b[0m\u001b[0;34m\u001b[0m\u001b[0m\n",
       "\u001b[0;31mDocstring:\u001b[0m <no docstring>\n",
       "\u001b[0;31mSource:\u001b[0m   \n",
       "\u001b[0;32mdef\u001b[0m \u001b[0mfgsm\u001b[0m\u001b[0;34m(\u001b[0m\u001b[0mimg\u001b[0m\u001b[0;34m,\u001b[0m \u001b[0mgrad\u001b[0m\u001b[0;34m,\u001b[0m \u001b[0mepsl\u001b[0m\u001b[0;34m)\u001b[0m\u001b[0;34m:\u001b[0m\u001b[0;34m\u001b[0m\n",
       "\u001b[0;34m\u001b[0m    \u001b[0msign_grad\u001b[0m \u001b[0;34m=\u001b[0m \u001b[0mgrad\u001b[0m\u001b[0;34m.\u001b[0m\u001b[0msign\u001b[0m\u001b[0;34m(\u001b[0m\u001b[0;34m)\u001b[0m\u001b[0;34m\u001b[0m\n",
       "\u001b[0;34m\u001b[0m    \u001b[0mperturbed_img\u001b[0m \u001b[0;34m=\u001b[0m \u001b[0mimg\u001b[0m \u001b[0;34m+\u001b[0m \u001b[0mepsl\u001b[0m\u001b[0;34m*\u001b[0m\u001b[0msign_grad\u001b[0m\u001b[0;34m\u001b[0m\n",
       "\u001b[0;34m\u001b[0m    \u001b[0mperturbed_img\u001b[0m\u001b[0;34m.\u001b[0m\u001b[0mrequires_grad_\u001b[0m\u001b[0;34m(\u001b[0m\u001b[0;34m)\u001b[0m\u001b[0;34m\u001b[0m\n",
       "\u001b[0;34m\u001b[0m    \u001b[0;31m# into range [0,1]\u001b[0m\u001b[0;34m\u001b[0m\n",
       "\u001b[0;34m\u001b[0m    \u001b[0mperturbed_img\u001b[0m \u001b[0;34m=\u001b[0m \u001b[0mtorch\u001b[0m\u001b[0;34m.\u001b[0m\u001b[0mclamp\u001b[0m\u001b[0;34m(\u001b[0m\u001b[0mperturbed_img\u001b[0m\u001b[0;34m,\u001b[0m \u001b[0;36m0\u001b[0m\u001b[0;34m,\u001b[0m \u001b[0;36m1\u001b[0m\u001b[0;34m)\u001b[0m\u001b[0;34m\u001b[0m\n",
       "\u001b[0;34m\u001b[0m    \u001b[0;32mreturn\u001b[0m \u001b[0mperturbed_img\u001b[0m\u001b[0;34m\u001b[0m\u001b[0;34m\u001b[0m\u001b[0m\n",
       "\u001b[0;31mFile:\u001b[0m      /media/cfs/xiaoyu13/twin-bert/mlsec/<ipython-input-201-eb7afca8cc89>\n",
       "\u001b[0;31mType:\u001b[0m      function\n"
      ]
     },
     "metadata": {},
     "output_type": "display_data"
    }
   ],
   "source": [
    "fgsm??"
   ]
  },
  {
   "cell_type": "code",
   "execution_count": 263,
   "metadata": {},
   "outputs": [],
   "source": [
    "\n",
    "# ------- Your Code -------\n",
    "def try_ifgsm(model, device, test_loader, steps=1, epsl=0.1, get_sample=False):\n",
    "    cor = 0\n",
    "    adv_sample = []\n",
    "    \n",
    "    start = time.time()\n",
    "    for image, label in tqdm(test_loader):\n",
    "        label = torch.tensor(label)\n",
    "        image, label = image.to(device), label.to(device)\n",
    "        image.requires_grad_()\n",
    "        output = model(image)\n",
    "        pred = torch.max(output, dim=1)[1]\n",
    "        if pred.item() != label.item():\n",
    "            continue\n",
    "        loss = F.nll_loss(output, label)\n",
    "        model.zero_grad()\n",
    "        loss.backward()\n",
    "        \n",
    "        grad = image.grad.data\n",
    "        perturbed_img = fgsm(image, grad, epsl)\n",
    "        \n",
    "        for _ in range(1, steps):\n",
    "#             print(perturbed_img.requires_grad)\n",
    "            perturbed_img.retain_grad()\n",
    "            output = model(perturbed_img)\n",
    "            pred = torch.max(output, dim=1)[1]\n",
    "            if pred.item() != label.item():\n",
    "                break\n",
    "            loss = F.nll_loss(output, label)\n",
    "            model.zero_grad()\n",
    "            loss.backward(retain_graph=True)\n",
    "            \n",
    "            grad = perturbed_img.grad.data\n",
    "            perturbed_img = fgsm(perturbed_img, grad, epsl)\n",
    "            \n",
    "        if pred.item() == label.item():\n",
    "            cor += 1\n",
    "        elif get_sample:\n",
    "            img = image.squeeze().detach().cpu().numpy()\n",
    "            adv_img = perturbed_img.squeeze().detach().cpu().numpy()\n",
    "            adv_sample.append((img, adv_img, label.item(), pred.item()))\n",
    "            \n",
    "    end = time.time()\n",
    "    acc = cor / len(test_loader) / BATCH_SIZE\n",
    "    print(f'steps: {steps}, epsl: {epsl}, acc: {acc}, runtime: {end-start:.4f}s')\n",
    "    return adv_sample"
   ]
  },
  {
   "cell_type": "markdown",
   "metadata": {},
   "source": [
    "## 3.2: Attack the undefended model (5 Points)\n",
    "\n",
    "* We will first attack the **undefended model** (i.e., without adversarial training).\n",
    "\n",
    "* Choose one perturbation budget from Question **1.3** for comparison. \n",
    "\n",
    "    * Hint: A simple way to choose the small step is to divide the total budget by the number of steps (e.g., 10).\n",
    "\n",
    "* Please generate 1000 adversarial examples using the **undefended** model and the **I-FGSM** you implemented. \n",
    "\n",
    "* Please compute the accuracy of the adversarial set on the **undefended** model. "
   ]
  },
  {
   "cell_type": "code",
   "execution_count": 200,
   "metadata": {},
   "outputs": [
    {
     "name": "stderr",
     "output_type": "stream",
     "text": [
      "  0%|          | 0/10000 [00:00<?, ?it/s]/usr/local/anaconda3/lib/python3.6/site-packages/ipykernel_launcher.py:17: UserWarning: To copy construct from a tensor, it is recommended to use sourceTensor.clone().detach() or sourceTensor.clone().detach().requires_grad_(True), rather than torch.tensor(sourceTensor).\n",
      "100%|██████████| 10000/10000 [00:25<00:00, 385.33it/s]\n",
      "  0%|          | 23/10000 [00:00<00:44, 225.92it/s]"
     ]
    },
    {
     "name": "stdout",
     "output_type": "stream",
     "text": [
      "steps: 1, epsl: 0.1, acc: 0.987, runtime: 25.9533s\n"
     ]
    },
    {
     "name": "stderr",
     "output_type": "stream",
     "text": [
      "100%|██████████| 10000/10000 [00:42<00:00, 235.76it/s]\n",
      "  0%|          | 19/10000 [00:00<00:52, 188.76it/s]"
     ]
    },
    {
     "name": "stdout",
     "output_type": "stream",
     "text": [
      "steps: 2, epsl: 0.1, acc: 0.8545, runtime: 42.4167s\n"
     ]
    },
    {
     "name": "stderr",
     "output_type": "stream",
     "text": [
      "100%|██████████| 10000/10000 [00:50<00:00, 196.42it/s]\n",
      "  0%|          | 20/10000 [00:00<00:51, 194.09it/s]"
     ]
    },
    {
     "name": "stdout",
     "output_type": "stream",
     "text": [
      "steps: 3, epsl: 0.1, acc: 0.3315, runtime: 50.9129s\n"
     ]
    },
    {
     "name": "stderr",
     "output_type": "stream",
     "text": [
      "100%|██████████| 10000/10000 [00:54<00:00, 184.80it/s]\n",
      "  0%|          | 16/10000 [00:00<01:03, 158.20it/s]"
     ]
    },
    {
     "name": "stdout",
     "output_type": "stream",
     "text": [
      "steps: 4, epsl: 0.1, acc: 0.0719, runtime: 54.1123s\n"
     ]
    },
    {
     "name": "stderr",
     "output_type": "stream",
     "text": [
      "100%|██████████| 10000/10000 [00:54<00:00, 181.84it/s]\n",
      "  0%|          | 22/10000 [00:00<00:45, 218.50it/s]"
     ]
    },
    {
     "name": "stdout",
     "output_type": "stream",
     "text": [
      "steps: 5, epsl: 0.1, acc: 0.0133, runtime: 54.9947s\n"
     ]
    },
    {
     "name": "stderr",
     "output_type": "stream",
     "text": [
      "100%|██████████| 10000/10000 [00:55<00:00, 181.01it/s]\n",
      "  0%|          | 18/10000 [00:00<00:56, 177.12it/s]"
     ]
    },
    {
     "name": "stdout",
     "output_type": "stream",
     "text": [
      "steps: 6, epsl: 0.1, acc: 0.0015, runtime: 55.2459s\n"
     ]
    },
    {
     "name": "stderr",
     "output_type": "stream",
     "text": [
      "100%|██████████| 10000/10000 [00:55<00:00, 180.33it/s]\n",
      "  0%|          | 20/10000 [00:00<00:53, 185.35it/s]"
     ]
    },
    {
     "name": "stdout",
     "output_type": "stream",
     "text": [
      "steps: 7, epsl: 0.1, acc: 0.0001, runtime: 55.4557s\n"
     ]
    },
    {
     "name": "stderr",
     "output_type": "stream",
     "text": [
      "100%|██████████| 10000/10000 [00:55<00:00, 178.64it/s]\n",
      "  0%|          | 16/10000 [00:00<01:02, 159.80it/s]"
     ]
    },
    {
     "name": "stdout",
     "output_type": "stream",
     "text": [
      "steps: 8, epsl: 0.1, acc: 0.0, runtime: 55.9807s\n"
     ]
    },
    {
     "name": "stderr",
     "output_type": "stream",
     "text": [
      "100%|██████████| 10000/10000 [00:56<00:00, 178.15it/s]"
     ]
    },
    {
     "name": "stdout",
     "output_type": "stream",
     "text": [
      "steps: 9, epsl: 0.1, acc: 0.0, runtime: 56.1335s\n"
     ]
    },
    {
     "name": "stderr",
     "output_type": "stream",
     "text": [
      "\n"
     ]
    }
   ],
   "source": [
    "\n",
    "# ------- Your Code -------\n",
    "model.load_state_dict(torch.load(pretrained_model, map_location=device))\n",
    "model.eval()\n",
    "for steps in range(1, 10):\n",
    "    epsl = 0.1\n",
    "    try_ifgsm(model, device, test_loader, steps, epsl)\n",
    "    "
   ]
  },
  {
   "cell_type": "code",
   "execution_count": 264,
   "metadata": {},
   "outputs": [
    {
     "name": "stderr",
     "output_type": "stream",
     "text": [
      "  0%|          | 0/10000 [00:00<?, ?it/s]/usr/local/anaconda3/lib/python3.6/site-packages/ipykernel_launcher.py:9: UserWarning: To copy construct from a tensor, it is recommended to use sourceTensor.clone().detach() or sourceTensor.clone().detach().requires_grad_(True), rather than torch.tensor(sourceTensor).\n",
      "  if __name__ == '__main__':\n",
      "100%|██████████| 10000/10000 [00:55<00:00, 180.11it/s]"
     ]
    },
    {
     "name": "stdout",
     "output_type": "stream",
     "text": [
      "steps: 10, epsl: 0.1, acc: 0.0, runtime: 55.5233s\n"
     ]
    },
    {
     "name": "stderr",
     "output_type": "stream",
     "text": [
      "\n"
     ]
    }
   ],
   "source": [
    "adv_sample_ifgsm = try_ifgsm(model, device, test_loader, 10, 0.1, True)"
   ]
  },
  {
   "cell_type": "markdown",
   "metadata": {},
   "source": [
    "### plot adversarial samples"
   ]
  },
  {
   "cell_type": "code",
   "execution_count": 268,
   "metadata": {},
   "outputs": [
    {
     "data": {
      "image/png": "[encoded data removed]",
      "text/plain": [
       "<Figure size 576x864 with 20 Axes>"
      ]
     },
     "metadata": {
      "needs_background": "light"
     },
     "output_type": "display_data"
    }
   ],
   "source": [
    "plot_adv_sample(adv_sample_ifgsm)    "
   ]
  },
  {
   "cell_type": "markdown",
   "metadata": {},
   "source": [
    "### 3.2.1: Findings and comparison with FGSM (8 points)\n",
    "\n",
    "* Please report your findings. How successful was the attack? \n",
    "\n",
    "* What do you expect when increasing the number of steps? (you can experiment with different parameters of the attack and report your findings) \n",
    "\n",
    "* Compare with the basic FGSM. Using the same perturbation budget and using the same model, which attack is more successful? Why do you think this is the case? What about the computation time?\n",
    "\n",
    "* Feel free to report any interesting observations. "
   ]
  },
  {
   "cell_type": "markdown",
   "metadata": {},
   "source": [
    "**Answers**\n",
    "- It is successful.\n",
    "- With increasing of the steps, the accuracy becomes lower.\n"
   ]
  },
  {
   "cell_type": "markdown",
   "metadata": {},
   "source": [
    "## 3.3: Attack the defended model (5 poinst) \n",
    "\n",
    "* In the previous question, we attacked the **undefended model**. \n",
    "\n",
    "* Now, we want to explore how successful the previous implemented defense (FGSM adversarial training) is againts this new attack. (we will not implement a new defense here, we will be reusing your previous checkpoint of the **defended model**)\n",
    "\n",
    "\n",
    "* Use the **defended model** to create one set of adversarial examples. Use a perturbation budget from Question **2.2** for comparison.  "
   ]
  },
  {
   "cell_type": "code",
   "execution_count": 258,
   "metadata": {},
   "outputs": [
    {
     "name": "stderr",
     "output_type": "stream",
     "text": [
      "100%|██████████| 10000/10000 [00:09<00:00, 1092.04it/s]"
     ]
    },
    {
     "name": "stdout",
     "output_type": "stream",
     "text": [
      "0.9871\n"
     ]
    },
    {
     "name": "stderr",
     "output_type": "stream",
     "text": [
      "\n"
     ]
    }
   ],
   "source": [
    "acc_on_ori_aft_dfs = test_dist(distilled_model, test_loader, device, BATCH_SIZE)\n",
    "print(acc_on_ori_aft_dfs)"
   ]
  },
  {
   "cell_type": "code",
   "execution_count": 259,
   "metadata": {},
   "outputs": [
    {
     "name": "stderr",
     "output_type": "stream",
     "text": [
      "  0%|          | 0/10000 [00:00<?, ?it/s]/usr/local/anaconda3/lib/python3.6/site-packages/ipykernel_launcher.py:17: UserWarning: To copy construct from a tensor, it is recommended to use sourceTensor.clone().detach() or sourceTensor.clone().detach().requires_grad_(True), rather than torch.tensor(sourceTensor).\n",
      "100%|██████████| 10000/10000 [00:20<00:00, 499.81it/s]\n",
      "  0%|          | 28/10000 [00:00<00:35, 277.84it/s]"
     ]
    },
    {
     "name": "stdout",
     "output_type": "stream",
     "text": [
      "steps: 1, epsl: 0.1, acc: 0.9871, runtime: 20.0090s\n"
     ]
    },
    {
     "name": "stderr",
     "output_type": "stream",
     "text": [
      "100%|██████████| 10000/10000 [00:35<00:00, 279.17it/s]\n",
      "  0%|          | 19/10000 [00:00<00:53, 187.15it/s]"
     ]
    },
    {
     "name": "stdout",
     "output_type": "stream",
     "text": [
      "steps: 2, epsl: 0.1, acc: 0.9634, runtime: 35.8217s\n"
     ]
    },
    {
     "name": "stderr",
     "output_type": "stream",
     "text": [
      "100%|██████████| 10000/10000 [00:50<00:00, 197.59it/s]\n",
      "  0%|          | 18/10000 [00:00<00:56, 176.93it/s]"
     ]
    },
    {
     "name": "stdout",
     "output_type": "stream",
     "text": [
      "steps: 3, epsl: 0.1, acc: 0.8532, runtime: 50.6108s\n"
     ]
    },
    {
     "name": "stderr",
     "output_type": "stream",
     "text": [
      "100%|██████████| 10000/10000 [01:01<00:00, 162.45it/s]\n",
      "  0%|          | 15/10000 [00:00<01:08, 145.68it/s]"
     ]
    },
    {
     "name": "stdout",
     "output_type": "stream",
     "text": [
      "steps: 4, epsl: 0.1, acc: 0.5129, runtime: 61.5587s\n"
     ]
    },
    {
     "name": "stderr",
     "output_type": "stream",
     "text": [
      "100%|██████████| 10000/10000 [01:05<00:00, 153.45it/s]\n",
      "  0%|          | 15/10000 [00:00<01:07, 148.94it/s]"
     ]
    },
    {
     "name": "stdout",
     "output_type": "stream",
     "text": [
      "steps: 5, epsl: 0.1, acc: 0.065, runtime: 65.1694s\n"
     ]
    },
    {
     "name": "stderr",
     "output_type": "stream",
     "text": [
      "100%|██████████| 10000/10000 [01:03<00:00, 156.63it/s]\n",
      "  0%|          | 17/10000 [00:00<01:02, 160.97it/s]"
     ]
    },
    {
     "name": "stdout",
     "output_type": "stream",
     "text": [
      "steps: 6, epsl: 0.1, acc: 0.002, runtime: 63.8449s\n"
     ]
    },
    {
     "name": "stderr",
     "output_type": "stream",
     "text": [
      "100%|██████████| 10000/10000 [01:03<00:00, 156.97it/s]\n",
      "  0%|          | 15/10000 [00:00<01:08, 145.74it/s]"
     ]
    },
    {
     "name": "stdout",
     "output_type": "stream",
     "text": [
      "steps: 7, epsl: 0.1, acc: 0.0005, runtime: 63.7082s\n"
     ]
    },
    {
     "name": "stderr",
     "output_type": "stream",
     "text": [
      "100%|██████████| 10000/10000 [01:03<00:00, 156.67it/s]\n",
      "  0%|          | 16/10000 [00:00<01:02, 159.07it/s]"
     ]
    },
    {
     "name": "stdout",
     "output_type": "stream",
     "text": [
      "steps: 8, epsl: 0.1, acc: 0.0003, runtime: 63.8295s\n"
     ]
    },
    {
     "name": "stderr",
     "output_type": "stream",
     "text": [
      "100%|██████████| 10000/10000 [01:05<00:00, 152.12it/s]"
     ]
    },
    {
     "name": "stdout",
     "output_type": "stream",
     "text": [
      "steps: 9, epsl: 0.1, acc: 0.0003, runtime: 65.7374s\n"
     ]
    },
    {
     "name": "stderr",
     "output_type": "stream",
     "text": [
      "\n"
     ]
    }
   ],
   "source": [
    "\n",
    "# ------- Your Code -------\n",
    "distilled_model_dir = './run/best_dist.pth'\n",
    "distilled_model.load_state_dict(torch.load(distilled_model_dir, map_location=device))\n",
    "distilled_model.eval()\n",
    "\n",
    "for steps in range(1, 10):\n",
    "    epsl = 0.1\n",
    "    try_ifgsm(distilled_model, device, test_loader, steps, epsl)"
   ]
  },
  {
   "cell_type": "code",
   "execution_count": 261,
   "metadata": {},
   "outputs": [
    {
     "name": "stderr",
     "output_type": "stream",
     "text": [
      "  0%|          | 0/10000 [00:00<?, ?it/s]/usr/local/anaconda3/lib/python3.6/site-packages/ipykernel_launcher.py:17: UserWarning: To copy construct from a tensor, it is recommended to use sourceTensor.clone().detach() or sourceTensor.clone().detach().requires_grad_(True), rather than torch.tensor(sourceTensor).\n",
      "100%|██████████| 10000/10000 [00:56<00:00, 175.46it/s]"
     ]
    },
    {
     "name": "stdout",
     "output_type": "stream",
     "text": [
      "steps: 10, epsl: 0.1, acc: 0.0, runtime: 56.9958s\n"
     ]
    },
    {
     "name": "stderr",
     "output_type": "stream",
     "text": [
      "\n"
     ]
    }
   ],
   "source": [
    "adv_sample_ifgsm_dfs = try_ifgsm(adv_model, device, test_loader, 10, 0.1, True)"
   ]
  },
  {
   "cell_type": "markdown",
   "metadata": {},
   "source": [
    "### plot adversarial samples"
   ]
  },
  {
   "cell_type": "code",
   "execution_count": 269,
   "metadata": {},
   "outputs": [
    {
     "data": {
      "image/png": "[encoded data removed]",
      "text/plain": [
       "<Figure size 576x864 with 20 Axes>"
      ]
     },
     "metadata": {
      "needs_background": "light"
     },
     "output_type": "display_data"
    }
   ],
   "source": [
    "plot_adv_sample(adv_sample_ifgsm_dfs)"
   ]
  },
  {
   "cell_type": "markdown",
   "metadata": {},
   "source": [
    "### 3.3.1: Discussion (7 points) \n",
    "* Please report your results. How successful was the attack on the defended model? \n",
    "* Compare it with the success of the FGSM attack on the defended model. What do you observe? How do you interpret the difference? \n",
    "* How do you think you can improve the defense against I-FGSM attack?\n",
    "\n",
    "\n",
    "* Feel free to state any interesting findings you encountered during this project."
   ]
  },
  {
   "cell_type": "markdown",
   "metadata": {},
   "source": [
    "**Answers**\n",
    "- with epsilon 0.1, after step 5, the accuracy becomes quite low.\n",
    "- with iteration the perturbations keep doing gradient ascent, while defended model only learns local perturbation.\n",
    "- try similar iterative approach, with step 10 or above, calculate loss at each step."
   ]
  }
 ],
 "metadata": {
  "colab": {
   "collapsed_sections": [],
   "name": "Project_3_Template.ipynb",
   "provenance": []
  },
  "kernelspec": {
   "display_name": "Python3 (PySpark)",
   "language": "python",
   "name": "python3"
  },
  "language_info": {
   "codemirror_mode": {
    "name": "ipython",
    "version": 3
   },
   "file_extension": ".py",
   "mimetype": "text/x-python",
   "name": "python",
   "nbconvert_exporter": "python",
   "pygments_lexer": "ipython3",
   "version": "3.6.12"
  }
 },
 "nbformat": 4,
 "nbformat_minor": 2
}
